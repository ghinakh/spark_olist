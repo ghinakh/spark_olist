{
 "cells": [
  {
   "cell_type": "markdown",
   "id": "b7f46f8d-10bd-4c01-9977-0312d12e5d26",
   "metadata": {},
   "source": [
    "## Data Integration & Aggregation"
   ]
  },
  {
   "cell_type": "code",
   "execution_count": 1,
   "id": "a19181c3-4c4b-457f-a134-6de83a139d8d",
   "metadata": {
    "tags": []
   },
   "outputs": [],
   "source": [
    "from pyspark.sql import SparkSession\n",
    "from pyspark.sql.functions import *\n",
    "from pyspark.sql.window import Window"
   ]
  },
  {
   "cell_type": "code",
   "execution_count": 2,
   "id": "4e19ce17-b26b-469d-b623-24956e91e526",
   "metadata": {
    "tags": []
   },
   "outputs": [
    {
     "name": "stderr",
     "output_type": "stream",
     "text": [
      "25/06/14 05:34:03 WARN SparkSession: Using an existing Spark session; only runtime SQL configurations will take effect.\n"
     ]
    }
   ],
   "source": [
    "spark = SparkSession.builder \\\n",
    ".appName(\"brazilian-ecommerce\") \\\n",
    ".config(\"spark.executor.memory\",\"2g\") \\\n",
    ".config(\"spark.executor.cores\", \"2\") \\\n",
    ".config(\"spark.executor.instances\", \"2\") \\\n",
    ".config(\"spark.sql.autoBroadcastJoinThreshold\",20*1024*1024) \\\n",
    ".getOrCreate()"
   ]
  },
  {
   "cell_type": "code",
   "execution_count": null,
   "id": "2ad26425-12a6-4f81-badc-443e863ee2ec",
   "metadata": {
    "tags": []
   },
   "outputs": [
    {
     "name": "stderr",
     "output_type": "stream",
     "text": [
      "                                                                                \r"
     ]
    }
   ],
   "source": [
    "path_head = \"gs://bucket-name/ecommerce_real/\"\n",
    "\n",
    "df_customers = spark.read.parquet(f\"{path_head}cleaned/customers\", header=True)\n",
    "df_geolocation = spark.read.parquet(f\"{path_head}cleaned/geolocation\", header=True)\n",
    "df_order_items = spark.read.parquet(f\"{path_head}cleaned/order_items\", header=True)\n",
    "df_order_payments = spark.read.parquet(f\"{path_head}cleaned/order_payments\", header=True)\n",
    "df_order_reviews = spark.read.parquet(f\"{path_head}cleaned/order_reviews\", header=True)\n",
    "df_orders = spark.read.parquet(f\"{path_head}cleaned/orders\", header=True)\n",
    "df_products = spark.read.parquet(f\"{path_head}cleaned/products\", header=True)\n",
    "df_sellers = spark.read.parquet(f\"{path_head}cleaned/sellers\", header=True)"
   ]
  },
  {
   "cell_type": "code",
   "execution_count": 5,
   "id": "0602cf11-0adf-4790-b499-f824c563914e",
   "metadata": {
    "tags": []
   },
   "outputs": [
    {
     "data": {
      "text/plain": [
       "DataFrame[order_id: string, product_id: string, seller_id: string, shipping_limit_date: timestamp, total_price: double, total_freight: double, qty: bigint, total_order_value: double]"
      ]
     },
     "execution_count": 5,
     "metadata": {},
     "output_type": "execute_result"
    }
   ],
   "source": [
    "df_orders.cache()\n",
    "df_customers.cache()\n",
    "df_order_items.cache()"
   ]
  },
  {
   "cell_type": "markdown",
   "id": "cb9e8a62-5f70-4ff0-a617-639e457eef42",
   "metadata": {},
   "source": [
    "### Join Tables"
   ]
  },
  {
   "cell_type": "code",
   "execution_count": 6,
   "id": "6fdc7cd8-a36d-4df0-944f-281c4b5d4209",
   "metadata": {
    "tags": []
   },
   "outputs": [
    {
     "name": "stdout",
     "output_type": "stream",
     "text": [
      "root\n",
      " |-- order_id: string (nullable = true)\n",
      " |-- customer_id: string (nullable = true)\n",
      " |-- order_status: string (nullable = true)\n",
      " |-- order_purchase_timestamp: timestamp (nullable = true)\n",
      " |-- order_approved_at: timestamp (nullable = true)\n",
      " |-- order_delivered_carrier_date: timestamp (nullable = true)\n",
      " |-- order_delivered_customer_date: timestamp (nullable = true)\n",
      " |-- order_estimated_delivery_date: date (nullable = true)\n",
      " |-- delivery_time: integer (nullable = true)\n",
      " |-- product_id: string (nullable = true)\n",
      " |-- seller_id: string (nullable = true)\n",
      " |-- shipping_limit_date: timestamp (nullable = true)\n",
      " |-- total_price: double (nullable = true)\n",
      " |-- total_freight: double (nullable = true)\n",
      " |-- qty: long (nullable = true)\n",
      " |-- total_order_value: double (nullable = true)\n",
      "\n"
     ]
    }
   ],
   "source": [
    "# first, join Orders and order_items Tables, then product, customers, and sellers\n",
    "# Inner join dipilih karena kita hanya ingin menampilkan order yang punya item di dalamnya. \n",
    "# Order tanpa item tidak relevan untuk dianalisis, jadi tidak perlu dimasukkan ke hasil.\n",
    "\n",
    "df_order_details = df_orders.join(df_order_items, 'order_id', 'inner')\n",
    "df_order_details.printSchema()"
   ]
  },
  {
   "cell_type": "code",
   "execution_count": 12,
   "id": "e7fbb071-7095-4767-aab4-8cb25ec0218c",
   "metadata": {
    "tags": []
   },
   "outputs": [],
   "source": [
    "df_order_details = df_order_details.withColumn('qty', col('qty').cast('integer'))"
   ]
  },
  {
   "cell_type": "code",
   "execution_count": 13,
   "id": "5c23c19e-a4ae-49e1-a6c1-37751483c663",
   "metadata": {
    "tags": []
   },
   "outputs": [],
   "source": [
    "df_order_details_full = df_order_details.join(broadcast(df_customers), 'customer_id', 'inner')"
   ]
  },
  {
   "cell_type": "code",
   "execution_count": 14,
   "id": "e5bc7d30-613d-4023-b8e8-b4b4595e5e87",
   "metadata": {
    "tags": []
   },
   "outputs": [],
   "source": [
    "df_order_details_full = df_order_details_full.join(broadcast(df_products), 'product_id', 'inner')"
   ]
  },
  {
   "cell_type": "code",
   "execution_count": 15,
   "id": "4820122b-4b93-4bab-82af-63b6237c13f0",
   "metadata": {
    "tags": []
   },
   "outputs": [],
   "source": [
    "df_order_details_full = df_order_details_full.join(broadcast(df_sellers), 'seller_id', 'inner')"
   ]
  },
  {
   "cell_type": "code",
   "execution_count": 16,
   "id": "4a2dc903-2931-40e6-9047-168d8f93f6e9",
   "metadata": {
    "tags": []
   },
   "outputs": [
    {
     "name": "stdout",
     "output_type": "stream",
     "text": [
      "root\n",
      " |-- seller_id: string (nullable = true)\n",
      " |-- product_id: string (nullable = true)\n",
      " |-- customer_id: string (nullable = true)\n",
      " |-- order_id: string (nullable = true)\n",
      " |-- order_status: string (nullable = true)\n",
      " |-- order_purchase_timestamp: timestamp (nullable = true)\n",
      " |-- order_approved_at: timestamp (nullable = true)\n",
      " |-- order_delivered_carrier_date: timestamp (nullable = true)\n",
      " |-- order_delivered_customer_date: timestamp (nullable = true)\n",
      " |-- order_estimated_delivery_date: date (nullable = true)\n",
      " |-- delivery_time: integer (nullable = true)\n",
      " |-- shipping_limit_date: timestamp (nullable = true)\n",
      " |-- total_price: double (nullable = true)\n",
      " |-- total_freight: double (nullable = true)\n",
      " |-- qty: integer (nullable = true)\n",
      " |-- total_order_value: double (nullable = true)\n",
      " |-- customer_unique_id: string (nullable = true)\n",
      " |-- customer_zip_code_prefix: string (nullable = true)\n",
      " |-- customer_city: string (nullable = true)\n",
      " |-- customer_state: string (nullable = true)\n",
      " |-- product_category_name: string (nullable = true)\n",
      " |-- product_category_name_english: string (nullable = true)\n",
      " |-- product_name_length: integer (nullable = true)\n",
      " |-- product_description_length: integer (nullable = true)\n",
      " |-- product_photos_qty: integer (nullable = true)\n",
      " |-- product_weight_g: integer (nullable = true)\n",
      " |-- product_weight_kg: double (nullable = true)\n",
      " |-- product_length_cm: integer (nullable = true)\n",
      " |-- product_height_cm: integer (nullable = true)\n",
      " |-- product_width_cm: integer (nullable = true)\n",
      " |-- product_volume_cm3: integer (nullable = true)\n",
      " |-- product_size_category: string (nullable = true)\n",
      " |-- seller_zip_code_prefix: string (nullable = true)\n",
      " |-- seller_city: string (nullable = true)\n",
      " |-- seller_state: string (nullable = true)\n",
      "\n"
     ]
    }
   ],
   "source": [
    "df_order_details_full.printSchema()"
   ]
  },
  {
   "cell_type": "code",
   "execution_count": 17,
   "id": "bf801352-95d8-42b5-a290-57f651690e68",
   "metadata": {
    "tags": []
   },
   "outputs": [],
   "source": [
    "# second join df_order_details_full with geolocation customer\n",
    "# Di sini kita menggunakan left join karena kita ingin mempertahankan semua data dari df_order_details_full, \n",
    "# meskipun beberapa data tidak memiliki informasi lokasi yang cocok di df_geolocation.\n",
    "\n",
    "df_order_details_full = df_order_details_full.alias(\"x\") \\\n",
    ".join(\n",
    "    broadcast(df_geolocation.alias(\"y\")),\n",
    "    col(\"x.customer_zip_code_prefix\") == col(\"y.geolocation_zip_code_prefix\"),\n",
    "    how=\"left\"\n",
    ")"
   ]
  },
  {
   "cell_type": "code",
   "execution_count": 18,
   "id": "5fb5cebf-c5c6-488b-97eb-14d5d884f784",
   "metadata": {
    "tags": []
   },
   "outputs": [],
   "source": [
    "df_order_details_full = df_order_details_full.join(df_order_reviews, 'order_id', how=\"left\")"
   ]
  },
  {
   "cell_type": "code",
   "execution_count": 19,
   "id": "b5ee5eda-7844-485d-b949-e8d9540d124a",
   "metadata": {
    "tags": []
   },
   "outputs": [],
   "source": [
    "df_order_details_full = df_order_details_full.join(df_order_payments, 'order_id', how=\"left\")"
   ]
  },
  {
   "cell_type": "code",
   "execution_count": 20,
   "id": "27445bb8-40eb-49f6-a5c6-6b426e45efe4",
   "metadata": {
    "tags": []
   },
   "outputs": [
    {
     "name": "stdout",
     "output_type": "stream",
     "text": [
      "root\n",
      " |-- order_id: string (nullable = true)\n",
      " |-- seller_id: string (nullable = true)\n",
      " |-- product_id: string (nullable = true)\n",
      " |-- customer_id: string (nullable = true)\n",
      " |-- order_status: string (nullable = true)\n",
      " |-- order_purchase_timestamp: timestamp (nullable = true)\n",
      " |-- order_approved_at: timestamp (nullable = true)\n",
      " |-- order_delivered_carrier_date: timestamp (nullable = true)\n",
      " |-- order_delivered_customer_date: timestamp (nullable = true)\n",
      " |-- order_estimated_delivery_date: date (nullable = true)\n",
      " |-- delivery_time: integer (nullable = true)\n",
      " |-- shipping_limit_date: timestamp (nullable = true)\n",
      " |-- total_price: double (nullable = true)\n",
      " |-- total_freight: double (nullable = true)\n",
      " |-- qty: integer (nullable = true)\n",
      " |-- total_order_value: double (nullable = true)\n",
      " |-- customer_unique_id: string (nullable = true)\n",
      " |-- customer_zip_code_prefix: string (nullable = true)\n",
      " |-- customer_city: string (nullable = true)\n",
      " |-- customer_state: string (nullable = true)\n",
      " |-- product_category_name: string (nullable = true)\n",
      " |-- product_category_name_english: string (nullable = true)\n",
      " |-- product_name_length: integer (nullable = true)\n",
      " |-- product_description_length: integer (nullable = true)\n",
      " |-- product_photos_qty: integer (nullable = true)\n",
      " |-- product_weight_g: integer (nullable = true)\n",
      " |-- product_weight_kg: double (nullable = true)\n",
      " |-- product_length_cm: integer (nullable = true)\n",
      " |-- product_height_cm: integer (nullable = true)\n",
      " |-- product_width_cm: integer (nullable = true)\n",
      " |-- product_volume_cm3: integer (nullable = true)\n",
      " |-- product_size_category: string (nullable = true)\n",
      " |-- seller_zip_code_prefix: string (nullable = true)\n",
      " |-- seller_city: string (nullable = true)\n",
      " |-- seller_state: string (nullable = true)\n",
      " |-- geolocation_zip_code_prefix: integer (nullable = true)\n",
      " |-- geolocation_lat: double (nullable = true)\n",
      " |-- geolocation_lng: double (nullable = true)\n",
      " |-- geolocation_city: string (nullable = true)\n",
      " |-- geolocation_state: string (nullable = true)\n",
      " |-- review_id: string (nullable = true)\n",
      " |-- review_score: integer (nullable = true)\n",
      " |-- review_comment_title: string (nullable = true)\n",
      " |-- review_comment_message: string (nullable = true)\n",
      " |-- review_creation_date: date (nullable = true)\n",
      " |-- review_answer_timestamp: timestamp (nullable = true)\n",
      " |-- total_payment: double (nullable = true)\n",
      " |-- payment_type: array (nullable = true)\n",
      " |    |-- element: string (containsNull = true)\n",
      " |-- payment_installments: array (nullable = true)\n",
      " |    |-- element: integer (containsNull = true)\n",
      "\n"
     ]
    }
   ],
   "source": [
    "df_order_details_full.printSchema()"
   ]
  },
  {
   "cell_type": "code",
   "execution_count": 21,
   "id": "7939b0a0-ea11-4ef2-ba77-ba4dcdcc8919",
   "metadata": {
    "tags": []
   },
   "outputs": [
    {
     "name": "stderr",
     "output_type": "stream",
     "text": [
      "25/06/14 05:37:56 WARN SparkStringUtils: Truncated the string representation of a plan since it was too large. This behavior can be adjusted by setting 'spark.sql.debug.maxToStringFields'.\n"
     ]
    },
    {
     "data": {
      "text/plain": [
       "DataFrame[order_id: string, seller_id: string, product_id: string, customer_id: string, order_status: string, order_purchase_timestamp: timestamp, order_approved_at: timestamp, order_delivered_carrier_date: timestamp, order_delivered_customer_date: timestamp, order_estimated_delivery_date: date, delivery_time: int, shipping_limit_date: timestamp, total_price: double, total_freight: double, qty: int, total_order_value: double, customer_unique_id: string, customer_zip_code_prefix: string, customer_city: string, customer_state: string, product_category_name: string, product_category_name_english: string, product_name_length: int, product_description_length: int, product_photos_qty: int, product_weight_g: int, product_weight_kg: double, product_length_cm: int, product_height_cm: int, product_width_cm: int, product_volume_cm3: int, product_size_category: string, seller_zip_code_prefix: string, seller_city: string, seller_state: string, geolocation_zip_code_prefix: int, geolocation_lat: double, geolocation_lng: double, geolocation_city: string, geolocation_state: string, review_id: string, review_score: int, review_comment_title: string, review_comment_message: string, review_creation_date: date, review_answer_timestamp: timestamp, total_payment: double, payment_type: array<string>, payment_installments: array<int>]"
      ]
     },
     "execution_count": 21,
     "metadata": {},
     "output_type": "execute_result"
    }
   ],
   "source": [
    "df_order_details_full.cache()"
   ]
  },
  {
   "cell_type": "markdown",
   "id": "c51a53ad-a1fa-48a0-a4c7-fc2d5447b630",
   "metadata": {},
   "source": [
    "### Aggregation"
   ]
  },
  {
   "cell_type": "markdown",
   "id": "c8156490-e3ac-4d41-bcc6-f9d22f811fe7",
   "metadata": {},
   "source": [
    "Do aggregation based on ecommerce usecase"
   ]
  },
  {
   "cell_type": "code",
   "execution_count": 22,
   "id": "79a871c2-d4e1-474b-b168-0fbdc85d9378",
   "metadata": {
    "tags": []
   },
   "outputs": [
    {
     "name": "stderr",
     "output_type": "stream",
     "text": [
      "                                                                                \r"
     ]
    },
    {
     "data": {
      "text/plain": [
       "97182"
      ]
     },
     "execution_count": 22,
     "metadata": {},
     "output_type": "execute_result"
    }
   ],
   "source": [
    "df_order_details_full.count()"
   ]
  },
  {
   "cell_type": "code",
   "execution_count": 24,
   "id": "cc96114d-3445-40ca-bb80-c18935e829f1",
   "metadata": {
    "tags": []
   },
   "outputs": [
    {
     "name": "stderr",
     "output_type": "stream",
     "text": [
      "[Stage 40:======================================>                   (2 + 1) / 3]\r"
     ]
    },
    {
     "name": "stdout",
     "output_type": "stream",
     "text": [
      "+------------------------+\n",
      "|count(DISTINCT order_id)|\n",
      "+------------------------+\n",
      "|                   93592|\n",
      "+------------------------+\n",
      "\n"
     ]
    },
    {
     "name": "stderr",
     "output_type": "stream",
     "text": [
      "                                                                                \r"
     ]
    }
   ],
   "source": [
    "df_order_details_full.agg(countDistinct(\"order_id\")).show()"
   ]
  },
  {
   "cell_type": "markdown",
   "id": "7c07e998-76c6-4a9b-8d99-25e1933cedd7",
   "metadata": {},
   "source": [
    "### # Total Revenues Per Seller"
   ]
  },
  {
   "cell_type": "code",
   "execution_count": 25,
   "id": "18e39af6-cc47-4a72-a5f0-ceb86d0b281f",
   "metadata": {
    "tags": []
   },
   "outputs": [],
   "source": [
    "# Total Revenues Per Seller\n",
    "\n",
    "df_seller_revenue = df_order_details_full \\\n",
    ".groupBy(\"seller_id\") \\\n",
    ".agg(round(sum(\"total_price\"), 2).alias('total_revenue')) \\\n",
    ".orderBy(desc(\"total_revenue\"))"
   ]
  },
  {
   "cell_type": "code",
   "execution_count": 26,
   "id": "51d66368-734d-4447-a0f8-ce398464b0e2",
   "metadata": {
    "tags": []
   },
   "outputs": [
    {
     "name": "stdout",
     "output_type": "stream",
     "text": [
      "+--------------------------------+-------------+\n",
      "|seller_id                       |total_revenue|\n",
      "+--------------------------------+-------------+\n",
      "|4869f7a5dfa277a7dca6462dcf3b52b2|224665.33    |\n",
      "|53243585a1d6dc2643021fd1853d8905|215041.44    |\n",
      "|4a3ca9315b744ce9f8e9374361493884|194960.37    |\n",
      "|fa1c13f2614d7b5c4749cbc52fecda94|188123.74    |\n",
      "|7c67e1448b00f6e969d365cea6b010ab|180104.43    |\n",
      "|7e93a43ef30c4f03f38b393420bc753a|162276.24    |\n",
      "|da8622b14eb17ae2831f4ac5b9dab84a|157319.67    |\n",
      "|7a67c85e85bb2ce8582c35f2203ad736|137803.81    |\n",
      "|1025f0e2d44d7041d6cf58b6550e0bfa|137586.76    |\n",
      "|955fee9216a65b617aa5c0531780ce60|130391.03    |\n",
      "+--------------------------------+-------------+\n",
      "only showing top 10 rows\n",
      "\n"
     ]
    }
   ],
   "source": [
    "df_seller_revenue.show(10, truncate=False)"
   ]
  },
  {
   "cell_type": "markdown",
   "id": "fd35804b-5dfc-4c9b-92f6-a3525d88d986",
   "metadata": {},
   "source": [
    "### # Total Orders Per Customer"
   ]
  },
  {
   "cell_type": "code",
   "execution_count": 33,
   "id": "bb05c649-f953-4a09-b941-c6c975065706",
   "metadata": {
    "tags": []
   },
   "outputs": [],
   "source": [
    "# Total Orders Per Customer\n",
    "customer_total_orders = df_order_details_full.groupBy(\"customer_id\") \\\n",
    "                                             .agg(count(\"order_id\").alias(\"total_orders_per_customer\")) \\\n",
    "                                             .orderBy(desc(\"total_orders_per_customer\"))"
   ]
  },
  {
   "cell_type": "code",
   "execution_count": 34,
   "id": "eca1b448-a92e-4e2c-8227-1f62ee1f1930",
   "metadata": {
    "tags": []
   },
   "outputs": [
    {
     "name": "stderr",
     "output_type": "stream",
     "text": [
      "[Stage 67:>                                                         (0 + 2) / 2]\r"
     ]
    },
    {
     "name": "stdout",
     "output_type": "stream",
     "text": [
      "+--------------------------------+-------------------------+\n",
      "|customer_id                     |total_orders_per_customer|\n",
      "+--------------------------------+-------------------------+\n",
      "|0d861a5e4dd6a9079d89e1330848f0ab|8                        |\n",
      "|a67a246af6ba598a14cc86df3c0354ee|7                        |\n",
      "|30bb84b541c96af98ba7d90b9ebf35d0|7                        |\n",
      "|50920f8cd0681fd86ebe93670c8fe52e|6                        |\n",
      "|c9dc6fff8500f3735822d5356bcb0e1b|6                        |\n",
      "|223f5e3208f2fa202a8ff706a4d9b206|6                        |\n",
      "|7171389ea6661b64e8c33ee5ad962922|6                        |\n",
      "|5e312b0d9bf5c91599eb42120e633b19|6                        |\n",
      "|6c44a903274653cddb1df3bcb05ac71f|6                        |\n",
      "|e898b5ef24833b9cb9e2d4f00b937595|6                        |\n",
      "+--------------------------------+-------------------------+\n",
      "only showing top 10 rows\n",
      "\n"
     ]
    },
    {
     "name": "stderr",
     "output_type": "stream",
     "text": [
      "                                                                                \r"
     ]
    }
   ],
   "source": [
    "customer_total_orders.show(10, truncate=False)"
   ]
  },
  {
   "cell_type": "code",
   "execution_count": 39,
   "id": "5c61bf21-7122-40ad-a0e9-836d97aa79e9",
   "metadata": {
    "tags": []
   },
   "outputs": [
    {
     "name": "stdout",
     "output_type": "stream",
     "text": [
      "+--------------------+-------------------------+\n",
      "|         customer_id|total_orders_per_customer|\n",
      "+--------------------+-------------------------+\n",
      "|0d861a5e4dd6a9079...|                        8|\n",
      "+--------------------+-------------------------+\n",
      "\n"
     ]
    }
   ],
   "source": [
    "customer_total_orders.filter(\"customer_id = '0d861a5e4dd6a9079d89e1330848f0ab'\").select(\"customer_id\", \"total_orders_per_customer\").show()"
   ]
  },
  {
   "cell_type": "code",
   "execution_count": 36,
   "id": "5edc67e8-65a5-415e-99d1-72919c95e690",
   "metadata": {
    "tags": []
   },
   "outputs": [
    {
     "name": "stdout",
     "output_type": "stream",
     "text": [
      "+--------------------+--------------------+--------------------+\n",
      "|         customer_id|            order_id|          product_id|\n",
      "+--------------------+--------------------+--------------------+\n",
      "|0d861a5e4dd6a9079...|ca3625898fbd48669...|0cf2faf9749f53924...|\n",
      "|0d861a5e4dd6a9079...|ca3625898fbd48669...|1065e0ebef073787a...|\n",
      "|0d861a5e4dd6a9079...|ca3625898fbd48669...|309dd69eb83cea38c...|\n",
      "|0d861a5e4dd6a9079...|ca3625898fbd48669...|4a5c3967bfd3629fe...|\n",
      "|0d861a5e4dd6a9079...|ca3625898fbd48669...|5dae498eff2d80057...|\n",
      "|0d861a5e4dd6a9079...|ca3625898fbd48669...|678c229b41c0e497d...|\n",
      "|0d861a5e4dd6a9079...|ca3625898fbd48669...|0de59eddc63167215...|\n",
      "|0d861a5e4dd6a9079...|ca3625898fbd48669...|21b524c4c060169fa...|\n",
      "+--------------------+--------------------+--------------------+\n",
      "\n"
     ]
    }
   ],
   "source": [
    "df_order_details_full.filter(\"customer_id = '0d861a5e4dd6a9079d89e1330848f0ab'\").select(\"customer_id\", \"order_id\", \"product_id\").show()"
   ]
  },
  {
   "cell_type": "markdown",
   "id": "7417283b-b8ae-4dbd-9f7a-e8d620d631a6",
   "metadata": {},
   "source": [
    "The customer with customer_id = '0d861a5e4dd6a9079d89e1330848f0ab' shows 8 orders in customer_total_orders, but all rows share the same order_id. This likely results from multiple items in a single order, so the correct total should be 1."
   ]
  },
  {
   "cell_type": "code",
   "execution_count": 40,
   "id": "9d4c4318-95ab-4393-9606-564a8df83e88",
   "metadata": {
    "tags": []
   },
   "outputs": [],
   "source": [
    "# Total Orders Per Customer Revisi\n",
    "customer_total_orders_rev = df_order_details_full.groupBy(\"customer_id\") \\\n",
    "                                             .agg(countDistinct(\"order_id\").alias(\"total_orders_per_customer\")) \\\n",
    "                                             .orderBy(desc(\"total_orders_per_customer\"))"
   ]
  },
  {
   "cell_type": "code",
   "execution_count": 41,
   "id": "9a0de578-65f8-4f96-98c0-f638d2aa88f4",
   "metadata": {
    "tags": []
   },
   "outputs": [
    {
     "name": "stdout",
     "output_type": "stream",
     "text": [
      "+--------------------+-------------------------+\n",
      "|         customer_id|total_orders_per_customer|\n",
      "+--------------------+-------------------------+\n",
      "|0d861a5e4dd6a9079...|                        1|\n",
      "+--------------------+-------------------------+\n",
      "\n"
     ]
    }
   ],
   "source": [
    "customer_total_orders_rev.filter(\"customer_id = '0d861a5e4dd6a9079d89e1330848f0ab'\").select(\"customer_id\", \"total_orders_per_customer\").show()"
   ]
  },
  {
   "cell_type": "markdown",
   "id": "7dc5abde-2757-4d11-8587-66c1dc059fb4",
   "metadata": {},
   "source": [
    "### # Average Review Score Per Seller"
   ]
  },
  {
   "cell_type": "code",
   "execution_count": 44,
   "id": "a98774fd-f296-400a-ac28-c667fea4b5c7",
   "metadata": {
    "tags": []
   },
   "outputs": [],
   "source": [
    "# Average Review Score Per Seller\n",
    "avg_score_sellers = df_order_details_full.groupBy(\"seller_id\")\\\n",
    "                                         .agg(avg(\"review_score\").alias(\"average_rating\"))"
   ]
  },
  {
   "cell_type": "code",
   "execution_count": 45,
   "id": "70c2561d-3f6f-4df4-8a68-236bc3877a18",
   "metadata": {
    "tags": []
   },
   "outputs": [
    {
     "name": "stderr",
     "output_type": "stream",
     "text": [
      "[Stage 96:=============================>                            (1 + 1) / 2]\r"
     ]
    },
    {
     "name": "stdout",
     "output_type": "stream",
     "text": [
      "+--------------------------------+-----------------+\n",
      "|seller_id                       |average_rating   |\n",
      "+--------------------------------+-----------------+\n",
      "|8e6cc767478edae941d9bd9eb778d77a|4.071428571428571|\n",
      "|4d600e08ecbe08258c79e536c5a42fee|4.428571428571429|\n",
      "|cb5ff1b9715e99589f3e0c7a6afab9e3|4.0              |\n",
      "|62de60d81c55c29d76a6bce418b31cef|4.0              |\n",
      "|038b75b729c8a9a04b0d07cba7eabe86|3.5              |\n",
      "+--------------------------------+-----------------+\n",
      "only showing top 5 rows\n",
      "\n"
     ]
    },
    {
     "name": "stderr",
     "output_type": "stream",
     "text": [
      "                                                                                \r"
     ]
    }
   ],
   "source": [
    "avg_score_sellers.show(5, truncate=False)"
   ]
  },
  {
   "cell_type": "markdown",
   "id": "6d63bf4b-b175-4ef0-b7e9-8136059f8650",
   "metadata": {},
   "source": [
    "### # Most Sold Products ( Top 10 )"
   ]
  },
  {
   "cell_type": "code",
   "execution_count": 46,
   "id": "1eb96bee-ff2f-40c0-995a-93e428d6f028",
   "metadata": {
    "tags": []
   },
   "outputs": [],
   "source": [
    "# Most Sold Products ( Top 10 ) -> berapa total barang produk itu dipesan\n",
    "# Num orders -> berapa kali produk itu muncul di orderan customers\n",
    "# Total Quantity -> berapa total barang produk yang terjual\n",
    "top10_product = df_order_details_full.groupBy(\"product_id\")\\\n",
    "                                     .agg(\n",
    "                                        count(\"order_id\").alias(\"num_orders\"),\n",
    "                                        sum(\"qty\").alias(\"total_quantity\")\n",
    "                                     )\\\n",
    "                                     .orderBy(\"total_quantity\", ascending=False)\\\n",
    "                                     .limit(10)"
   ]
  },
  {
   "cell_type": "code",
   "execution_count": 47,
   "id": "81fe05c5-18d1-4a4c-9966-29fda8fcdb4f",
   "metadata": {
    "tags": []
   },
   "outputs": [
    {
     "name": "stderr",
     "output_type": "stream",
     "text": [
      "[Stage 99:>                                                         (0 + 2) / 2]\r"
     ]
    },
    {
     "name": "stdout",
     "output_type": "stream",
     "text": [
      "+--------------------+----------+--------------+\n",
      "|          product_id|num_orders|total_quantity|\n",
      "+--------------------+----------+--------------+\n",
      "|aca2eb7d00ea1a7b8...|       422|           517|\n",
      "|422879e10f4668299...|       346|           478|\n",
      "|99a4788cb24856965...|       453|           474|\n",
      "|389d119b48cf3043d...|       306|           386|\n",
      "|368c6c730842d7801...|       288|           383|\n",
      "|53759a2ecddad2bb8...|       281|           367|\n",
      "|d1c427060a0f73f6b...|       309|           327|\n",
      "|53b36df67ebb7c415...|       302|           318|\n",
      "|154e7e31ebfa09220...|       262|           274|\n",
      "|3dd2a17168ec895c7...|       252|           271|\n",
      "+--------------------+----------+--------------+\n",
      "\n"
     ]
    },
    {
     "name": "stderr",
     "output_type": "stream",
     "text": [
      "                                                                                \r"
     ]
    }
   ],
   "source": [
    "top10_product.show()"
   ]
  },
  {
   "cell_type": "markdown",
   "id": "1e16f842-b3ef-431f-8f56-5751f03f9d2a",
   "metadata": {},
   "source": [
    "### # Top Customers By Spending"
   ]
  },
  {
   "cell_type": "code",
   "execution_count": 48,
   "id": "15b6b243-0ac1-4878-a711-16717470d725",
   "metadata": {
    "tags": []
   },
   "outputs": [],
   "source": [
    "# Top Customers By Spending\n",
    "top10_customers = df_order_details_full.groupBy(\"customer_id\") \\\n",
    "                                       .agg(round(sum(\"total_payment\"),2).alias(\"total_spending\"))\\\n",
    "                                       .orderBy(desc(\"total_spending\")) \\\n",
    "                                       .limit(10)"
   ]
  },
  {
   "cell_type": "code",
   "execution_count": 49,
   "id": "bcc3921c-d1fe-4933-8bf6-7c66de841e0d",
   "metadata": {
    "tags": []
   },
   "outputs": [
    {
     "name": "stdout",
     "output_type": "stream",
     "text": [
      "+--------------------+--------------+\n",
      "|         customer_id|total_spending|\n",
      "+--------------------+--------------+\n",
      "|71901689c5f3e5adc...|      15978.65|\n",
      "|1617b1357756262bf...|      13664.08|\n",
      "|0d861a5e4dd6a9079...|       9258.24|\n",
      "|cc803a2c412833101...|        8891.0|\n",
      "|30bb84b541c96af98...|       8697.99|\n",
      "|5e312b0d9bf5c9159...|       8530.14|\n",
      "|ec5b2ba62e5743423...|       7274.88|\n",
      "|c6e2731c5b391845f...|       6929.31|\n",
      "|f48d464a0baaea338...|       6922.21|\n",
      "|3fd6777bbce08a352...|       6726.66|\n",
      "+--------------------+--------------+\n",
      "\n"
     ]
    }
   ],
   "source": [
    "top10_customers.show()"
   ]
  },
  {
   "cell_type": "code",
   "execution_count": 42,
   "id": "da290001-f66c-44bf-ac61-eb579af44ef0",
   "metadata": {
    "tags": []
   },
   "outputs": [
    {
     "name": "stdout",
     "output_type": "stream",
     "text": [
      "+--------------------+--------------------+--------------------+-------------+\n",
      "|            order_id|         customer_id|          product_id|total_payment|\n",
      "+--------------------+--------------------+--------------------+-------------+\n",
      "|4412d97cb2093633a...|71901689c5f3e5adc...|03d817e5e392e7867...|      3195.73|\n",
      "|4412d97cb2093633a...|71901689c5f3e5adc...|1179867d805886591...|      3195.73|\n",
      "|4412d97cb2093633a...|71901689c5f3e5adc...|33e503f68fb60fe16...|      3195.73|\n",
      "|4412d97cb2093633a...|71901689c5f3e5adc...|993ac19aa97507577...|      3195.73|\n",
      "|4412d97cb2093633a...|71901689c5f3e5adc...|da7813106f94601e6...|      3195.73|\n",
      "+--------------------+--------------------+--------------------+-------------+\n",
      "\n"
     ]
    }
   ],
   "source": [
    "df_order_details_full.filter(col(\"customer_id\").startswith(\"71901689c5f3e5adc\")).select(\"order_id\", \"customer_id\", \"product_id\", \"total_payment\").show()"
   ]
  },
  {
   "cell_type": "markdown",
   "id": "9d748611-472a-4639-b649-52cc96359e11",
   "metadata": {},
   "source": [
    "### # Rank Top Selling Products Per seller"
   ]
  },
  {
   "cell_type": "code",
   "execution_count": 51,
   "id": "39580d00-44ee-4385-a45a-fcd3bfaf848f",
   "metadata": {
    "tags": []
   },
   "outputs": [
    {
     "name": "stderr",
     "output_type": "stream",
     "text": [
      "[Stage 113:============================>                            (1 + 1) / 2]\r"
     ]
    },
    {
     "name": "stdout",
     "output_type": "stream",
     "text": [
      "+--------------------------------+--------------------------------+---------------+----+\n",
      "|seller_id                       |product_id                      |product_revenue|rank|\n",
      "+--------------------------------+--------------------------------+---------------+----+\n",
      "|0015a82c2db000af6aaaf3ae2ecb0532|a2ff5a97bf95719e38ea2e3b4105bce8|2685.0         |1   |\n",
      "|001cca7ae9ae17fb1caed9dfb1094831|08574b074924071f4e201e151b152b4e|10335.3        |1   |\n",
      "|001cca7ae9ae17fb1caed9dfb1094831|e251ebd2858be1aa7d9b2087a6992580|5453.1         |2   |\n",
      "|001cca7ae9ae17fb1caed9dfb1094831|98a8c2fa16d7239c606640f5555768e4|3027.9         |3   |\n",
      "|001cca7ae9ae17fb1caed9dfb1094831|547b95702aec86f05ac37e61d164891c|2040.5         |4   |\n",
      "|001cca7ae9ae17fb1caed9dfb1094831|0da9ffd92214425d880de3f94e74ce39|1819.93        |5   |\n",
      "|002100f778ceb8431b7a1020ff7ab48f|158102fe543dbaeb84d87811bfe06d0d|286.4          |1   |\n",
      "|002100f778ceb8431b7a1020ff7ab48f|414c53fa9c5cc4a0390682aeb2e25ec1|210.8          |2   |\n",
      "|002100f778ceb8431b7a1020ff7ab48f|f20ecbadee5c21ee0f8b35381c49f267|129.9          |3   |\n",
      "|002100f778ceb8431b7a1020ff7ab48f|69adf2553423d21b32e7f734196a3ab2|89.9           |4   |\n",
      "|002100f778ceb8431b7a1020ff7ab48f|bb9b2da4f8ff24846eb34e2bd128d5b4|49.9           |5   |\n",
      "|002100f778ceb8431b7a1020ff7ab48f|db12ac2c4b6f38f091e197cece7d4a3e|49.9           |5   |\n",
      "|004c9cd9d87a3c30c522c48c4fc07416|54af11c815f92135fb554bd9c97dd418|908.7          |1   |\n",
      "|004c9cd9d87a3c30c522c48c4fc07416|a0abcee0132a5aed003d98e459b37698|825.93         |2   |\n",
      "|004c9cd9d87a3c30c522c48c4fc07416|b2d98b6f547c14e29a9e72b8e630d936|807.99         |3   |\n",
      "|004c9cd9d87a3c30c522c48c4fc07416|6814dd9a0fcc3213534377d08d8a24fa|580.93         |4   |\n",
      "|004c9cd9d87a3c30c522c48c4fc07416|209fa5709fd95c3fac1edddca1d6c505|574.93         |5   |\n",
      "|00720abe85ba0859807595bbf045a33b|0ae935aec15938b92f6667ec2fde2dc2|312.0          |1   |\n",
      "|00720abe85ba0859807595bbf045a33b|2d9ff06c8870a518f5f6909774e140fb|156.0          |2   |\n",
      "|00720abe85ba0859807595bbf045a33b|135679c12dc580ad4a0c87b494a46942|132.0          |3   |\n",
      "+--------------------------------+--------------------------------+---------------+----+\n",
      "only showing top 20 rows\n",
      "\n"
     ]
    },
    {
     "name": "stderr",
     "output_type": "stream",
     "text": [
      "                                                                                \r"
     ]
    }
   ],
   "source": [
    "# Intermediate : \n",
    "# Rank Top Selling Products Per seller\n",
    "# Hitung total revenue per seller & product\n",
    "df_product_revenue = df_order_details_full.groupBy(\"seller_id\", \"product_id\") \\\n",
    "    .agg(round(sum(\"total_price\"),2).alias(\"product_revenue\"))\n",
    "\n",
    "window_spec = Window.partitionBy(\"seller_id\").orderBy(desc(\"product_revenue\"))\n",
    "\n",
    "top_selling_products_by_seller = df_product_revenue.withColumn(\"rank\", rank().over(window_spec)) \\\n",
    "    .filter(col(\"rank\") <= 5)\n",
    "\n",
    "top_selling_products_by_seller.show(truncate=False)"
   ]
  },
  {
   "cell_type": "markdown",
   "id": "4648bd76-7fba-4fa6-adef-8b907a5bbfa9",
   "metadata": {},
   "source": [
    "### # Calculate AOV Average Order Value per customer (customer-level)\n"
   ]
  },
  {
   "cell_type": "code",
   "execution_count": 50,
   "id": "0740b9e6-182d-49c6-b070-839dbed78fa6",
   "metadata": {
    "tags": []
   },
   "outputs": [
    {
     "name": "stderr",
     "output_type": "stream",
     "text": [
      "[Stage 107:>                                                        (0 + 2) / 2]\r"
     ]
    },
    {
     "name": "stdout",
     "output_type": "stream",
     "text": [
      "+--------------------+------------+-----------+------+\n",
      "|         customer_id|total_orders|total_spent|   AOV|\n",
      "+--------------------+------------+-----------+------+\n",
      "|d927892e658a6af91...|           1|      260.5| 260.5|\n",
      "|8f4758b55faa41da5...|           1|      61.01| 61.01|\n",
      "|ca85f1de72b224e6e...|           1|     206.09|206.09|\n",
      "|136f8c475ac7abd11...|           1|     209.48|209.48|\n",
      "|44e0884274cbedabc...|           1|     153.38|153.38|\n",
      "|2daf50201a5e309f6...|           1|     175.16|175.16|\n",
      "|82c91e8e62d9d79bf...|           1|     210.29|210.29|\n",
      "|35c922a335b8a9141...|           1|      47.11| 47.11|\n",
      "|90d7075599361b694...|           1|     168.56|168.56|\n",
      "|d9f57c5a009cd22a4...|           1|      27.69| 27.69|\n",
      "|9e805b75d4ed5080a...|           1|     225.84|225.84|\n",
      "|62189b05812bf34dc...|           1|      106.0| 106.0|\n",
      "|2aec499f94f5e8278...|           1|     215.83|215.83|\n",
      "|f0f97266247be0432...|           1|       62.5|  62.5|\n",
      "|0721e1c4b91bc6ded...|           1|     107.78|107.78|\n",
      "|c79c8d356d92bb1b7...|           1|     115.55|115.55|\n",
      "|3f0f45bd49f790854...|           1|     188.45|188.45|\n",
      "|9e67b6474f7e8370b...|           1|      69.03| 69.03|\n",
      "|d7eea84fcaf846ca5...|           1|     283.54|283.54|\n",
      "|a78e85d7d80bdae62...|           1|     100.95|100.95|\n",
      "+--------------------+------------+-----------+------+\n",
      "only showing top 20 rows\n",
      "\n"
     ]
    },
    {
     "name": "stderr",
     "output_type": "stream",
     "text": [
      "                                                                                \r"
     ]
    }
   ],
   "source": [
    "# Calculate AOV Average Order Value per customer (customer-level)\n",
    "order_level_df = df_order_details_full.groupBy(\"customer_id\", \"order_id\").agg(\n",
    "    sum(\"total_payment\").alias(\"order_total\")\n",
    ")\n",
    "\n",
    "# Step 2: Hitung AOV per customer\n",
    "customer_aov_df = order_level_df.groupBy(\"customer_id\").agg(\n",
    "    count(\"order_id\").alias(\"total_orders\"),\n",
    "    sum(\"order_total\").alias(\"total_spent\"),\n",
    "    round(avg(\"order_total\"), 2).alias(\"AOV\")\n",
    ")\n",
    "\n",
    "customer_aov_df.show()"
   ]
  },
  {
   "cell_type": "code",
   "execution_count": 159,
   "id": "b6613bce-d203-4e42-b31b-2e6ea2c64754",
   "metadata": {
    "tags": []
   },
   "outputs": [
    {
     "name": "stderr",
     "output_type": "stream",
     "text": [
      "[Stage 448:======================================>                  (2 + 1) / 3]\r"
     ]
    },
    {
     "name": "stdout",
     "output_type": "stream",
     "text": [
      "+-----------+------------+-----------+-----+\n",
      "|customer_id|total_orders|total_spent|  AOV|\n",
      "+-----------+------------+-----------+-----+\n",
      "|         C2|           2|        300|150.0|\n",
      "|         C1|           2|        240|120.0|\n",
      "+-----------+------------+-----------+-----+\n",
      "\n"
     ]
    },
    {
     "name": "stderr",
     "output_type": "stream",
     "text": [
      "                                                                                \r"
     ]
    }
   ],
   "source": [
    "# Buat sample data\n",
    "data = [\n",
    "    (\"C1\", \"O1\", \"A\", 2, 100),\n",
    "    (\"C1\", \"O1\", \"B\", 1, 50),\n",
    "    (\"C1\", \"O2\", \"C\", 3, 90),\n",
    "    (\"C2\", \"O3\", \"A\", 1, 100),\n",
    "    (\"C2\", \"O4\", \"B\", 2, 120),\n",
    "    (\"C2\", \"O4\", \"C\", 1, 80),\n",
    "]\n",
    "\n",
    "columns = [\"customer_id\", \"order_id\", \"product_id\", \"qty\", \"total_payment\"]\n",
    "df = spark.createDataFrame(data, columns)\n",
    "\n",
    "# Step 1: Total belanja per order\n",
    "order_level_df = df.groupBy(\"customer_id\", \"order_id\").agg(\n",
    "    sum(\"total_payment\").alias(\"order_total\")\n",
    ")\n",
    "\n",
    "# Step 2: Hitung AOV per customer\n",
    "customer_aov_df = order_level_df.groupBy(\"customer_id\").agg(\n",
    "    count(\"order_id\").alias(\"total_orders\"),\n",
    "    sum(\"order_total\").alias(\"total_spent\"),\n",
    "    round(avg(\"order_total\"), 2).alias(\"AOV\")\n",
    ")\n",
    "\n",
    "customer_aov_df.show()"
   ]
  },
  {
   "cell_type": "code",
   "execution_count": 161,
   "id": "11581da3-e576-4141-87fa-e7950bf821de",
   "metadata": {
    "tags": []
   },
   "outputs": [
    {
     "name": "stdout",
     "output_type": "stream",
     "text": [
      "+-----------+------------+-----------+-----+\n",
      "|customer_id|total_orders|total_spent|  AOV|\n",
      "+-----------+------------+-----------+-----+\n",
      "|         C2|           2|        300|150.0|\n",
      "|         C1|           2|        240|120.0|\n",
      "+-----------+------------+-----------+-----+\n",
      "\n"
     ]
    }
   ],
   "source": [
    "# Buat data dummy\n",
    "data = [\n",
    "    ('C1', 'O1', 'A', 50),\n",
    "    ('C1', 'O1', 'A', 50),\n",
    "    ('C1', 'O1', 'B', 50),\n",
    "    ('C1', 'O2', 'C', 30),\n",
    "    ('C1', 'O2', 'C', 30),\n",
    "    ('C1', 'O2', 'C', 30),\n",
    "    ('C2', 'O3', 'A', 100),\n",
    "    ('C2', 'O4', 'B', 60),\n",
    "    ('C2', 'O4', 'B', 60),\n",
    "    ('C2', 'O4', 'C', 80)\n",
    "]\n",
    "\n",
    "columns = [\"customer_id\", \"order_id\", \"product_id\", \"price\"]\n",
    "df = spark.createDataFrame(data, columns)\n",
    "\n",
    "# Step 1: total pembayaran per order\n",
    "order_level_df = df.groupBy(\"customer_id\", \"order_id\").agg(\n",
    "    sum(\"price\").alias(\"order_total\")\n",
    ")\n",
    "\n",
    "# Step 2: hitung AOV per customer\n",
    "customer_aov_df = order_level_df.groupBy(\"customer_id\").agg(\n",
    "    count(\"order_id\").alias(\"total_orders\"),\n",
    "    sum(\"order_total\").alias(\"total_spent\"),\n",
    "    round(avg(\"order_total\"), 2).alias(\"AOV\")\n",
    ")\n",
    "\n",
    "customer_aov_df.show()"
   ]
  },
  {
   "cell_type": "markdown",
   "id": "e1d219ff-f550-490e-ba31-32fc40d50d56",
   "metadata": {},
   "source": [
    "### # Seller Performance Metrics ( Revenue, Average Review, Order Count)"
   ]
  },
  {
   "cell_type": "code",
   "execution_count": 54,
   "id": "9f514f20-69ef-485e-8018-094c2cfc6865",
   "metadata": {
    "tags": []
   },
   "outputs": [],
   "source": [
    "# Seller Performance Metrics ( Revenue, Average Review, Order Count)\n",
    "df_seller_metrics = df_order_details_full \\\n",
    ".groupBy(\"seller_id\") \\\n",
    ".agg(round(sum(\"total_price\"), 2).alias('total_revenue'),\n",
    "     round(avg(\"review_score\"), 1).alias(\"average_rating\"),\n",
    "     countDistinct(\"order_id\").alias(\"num_orders\")) \\\n",
    ".orderBy(desc(\"total_revenue\"))"
   ]
  },
  {
   "cell_type": "code",
   "execution_count": 55,
   "id": "a4e68bf9-e909-4bca-bc40-e9852ad02eac",
   "metadata": {
    "tags": []
   },
   "outputs": [
    {
     "name": "stderr",
     "output_type": "stream",
     "text": [
      "[Stage 122:>                                                        (0 + 2) / 2]\r"
     ]
    },
    {
     "name": "stdout",
     "output_type": "stream",
     "text": [
      "+--------------------+-------------+--------------+----------+\n",
      "|           seller_id|total_revenue|average_rating|num_orders|\n",
      "+--------------------+-------------+--------------+----------+\n",
      "|4869f7a5dfa277a7d...|    224665.33|           4.2|      1112|\n",
      "|53243585a1d6dc264...|    215041.44|           4.2|       345|\n",
      "|4a3ca9315b744ce9f...|    194960.37|           3.9|      1756|\n",
      "|fa1c13f2614d7b5c4...|    188123.74|           4.4|       566|\n",
      "|7c67e1448b00f6e96...|    180104.43|           3.5|       936|\n",
      "|7e93a43ef30c4f03f...|    162276.24|           4.4|       314|\n",
      "|da8622b14eb17ae28...|    157319.67|           4.1|      1285|\n",
      "|7a67c85e85bb2ce85...|    137803.81|           4.3|      1133|\n",
      "|1025f0e2d44d7041d...|    137586.76|           4.0|       905|\n",
      "|955fee9216a65b617...|    130391.03|           4.2|      1242|\n",
      "|6560211a19b47992c...|    117760.84|           4.0|      1775|\n",
      "|5dceca129747e92ff...|    110876.74|           4.0|       321|\n",
      "|46dc3b2cc0980fb8e...|    110242.89|           4.3|       456|\n",
      "|620c87c171fb2a6dd...|     110019.2|           4.3|       706|\n",
      "|7d13fca1522535862...|    109372.12|           4.1|       544|\n",
      "|1f50f920176fa81da...|    105305.41|           4.2|      1381|\n",
      "|cc419e0650a3c5ba7...|    100438.06|           4.2|      1641|\n",
      "|a1043bafd471dff53...|     98053.28|           4.3|       695|\n",
      "|3d871de0142ce09b7...|      92355.5|           4.2|      1055|\n",
      "|edb1ef5e36e0c8cd8...|     77540.65|           4.5|       160|\n",
      "+--------------------+-------------+--------------+----------+\n",
      "only showing top 20 rows\n",
      "\n"
     ]
    },
    {
     "name": "stderr",
     "output_type": "stream",
     "text": [
      "                                                                                \r"
     ]
    }
   ],
   "source": [
    "df_seller_metrics.show()"
   ]
  },
  {
   "cell_type": "code",
   "execution_count": 65,
   "id": "dcb0d09a-3688-40fd-84ad-33ab5c318c89",
   "metadata": {
    "tags": []
   },
   "outputs": [
    {
     "name": "stderr",
     "output_type": "stream",
     "text": [
      "[Stage 146:============================>                            (1 + 1) / 2]\r"
     ]
    },
    {
     "name": "stdout",
     "output_type": "stream",
     "text": [
      "+--------------------+--------------------+-----+\n",
      "|           seller_id|            order_id|count|\n",
      "+--------------------+--------------------+-----+\n",
      "|8a130737016f83813...|ac899f448f474ceb2...|    2|\n",
      "|4992e76a42cb3aad7...|d65f26752fd6834bf...|    2|\n",
      "|1f50f920176fa81da...|bbf6f71330cce4afd...|    2|\n",
      "|30a2f535bb48308f9...|112b993827414a482...|    2|\n",
      "|4a1f694197d05fe70...|3f13c6c8bb6e531e0...|    3|\n",
      "|318f287a62ab7ac10...|a436479c10d07646d...|    2|\n",
      "|1f50f920176fa81da...|117e77b39bc8cd4a2...|    2|\n",
      "|272f092de69afedd4...|772b70d3a8f138f49...|    2|\n",
      "|d20b021d3efdf267a...|b8c38cf37cd17fd64...|    3|\n",
      "|cb3dd9ce66268c7a3...|bcb0343717a9e0265...|    2|\n",
      "|ea8482cd71df3c196...|e2fcc0343a77288cc...|    2|\n",
      "|d2374cbcbb3ca4ab1...|1c437b4d4326d36b7...|    2|\n",
      "|cca3071e3e9bb7d12...|200f4d883fcc70135...|    6|\n",
      "|897060da8b9a21f65...|09b584a0cd8717a01...|    2|\n",
      "|8160255418d5aaa7d...|4845232ae57f7a442...|    3|\n",
      "|b4f8921fcc4ff77b6...|764bcaebe1a019d6c...|    2|\n",
      "|d2374cbcbb3ca4ab1...|2f7b0d36ffcaf0277...|    2|\n",
      "|8581055ce74af1dab...|461a022953c6f3a85...|    2|\n",
      "|da8622b14eb17ae28...|4a514eb755fe5187e...|    3|\n",
      "|620c87c171fb2a6dd...|18fda8c87fb70dfe4...|    2|\n",
      "+--------------------+--------------------+-----+\n",
      "only showing top 20 rows\n",
      "\n"
     ]
    },
    {
     "name": "stderr",
     "output_type": "stream",
     "text": [
      "                                                                                \r"
     ]
    }
   ],
   "source": [
    "df_order_details_full.groupBy(\"seller_id\", \"order_id\").count().filter(\"count > 1\").show()"
   ]
  },
  {
   "cell_type": "markdown",
   "id": "14136881-f057-45de-8c8a-40004f91e272",
   "metadata": {},
   "source": [
    "Kalau ada hasilnya, berarti 1 seller muncul lebih dari sekali per order, yang artinya memang butuh countDistinct."
   ]
  },
  {
   "cell_type": "code",
   "execution_count": 62,
   "id": "4c3a53ff-f6e3-4f07-bcb6-32cb636c8e74",
   "metadata": {
    "tags": []
   },
   "outputs": [
    {
     "name": "stdout",
     "output_type": "stream",
     "text": [
      "+--------------------+-----+\n",
      "|            order_id|count|\n",
      "+--------------------+-----+\n",
      "|7d7688ff6a1534fab...|    2|\n",
      "|f52a5a508f96400a0...|    2|\n",
      "+--------------------+-----+\n",
      "\n"
     ]
    }
   ],
   "source": [
    "df_order_details_full.filter(col(\"seller_id\").startswith(\"edb1ef5e36e0c8cd8\")).select(\"seller_id\", \"product_id\", \"order_id\").groupBy(\"order_id\").count().filter(\"count > 1\").show()"
   ]
  },
  {
   "cell_type": "code",
   "execution_count": 64,
   "id": "f1dd84ac-7c64-4a7c-a519-8efa02df83b9",
   "metadata": {
    "tags": []
   },
   "outputs": [
    {
     "name": "stdout",
     "output_type": "stream",
     "text": [
      "+--------------------+--------------------+--------------------+--------------------+\n",
      "|           seller_id|          product_id|            order_id|         customer_id|\n",
      "+--------------------+--------------------+--------------------+--------------------+\n",
      "|edb1ef5e36e0c8cd8...|c43b672f48eaccbec...|7d7688ff6a1534fab...|2e94ea544f81f32c3...|\n",
      "|edb1ef5e36e0c8cd8...|e4985e03cd939f1a9...|7d7688ff6a1534fab...|2e94ea544f81f32c3...|\n",
      "+--------------------+--------------------+--------------------+--------------------+\n",
      "\n"
     ]
    }
   ],
   "source": [
    "df_order_details_full.filter(col(\"seller_id\").startswith(\"edb1ef5e36e0c8cd8\")).select(\"seller_id\", \"product_id\", \"order_id\", \"customer_id\").filter(col(\"order_id\").startswith(\"7d7688ff6a1534fab\")).show()"
   ]
  },
  {
   "cell_type": "markdown",
   "id": "fe759907-ebb9-4210-8fa2-18220f53a7c8",
   "metadata": {},
   "source": [
    "### # Monthly Revenue and Order Count Trend"
   ]
  },
  {
   "cell_type": "code",
   "execution_count": null,
   "id": "d19a15c2-196f-4873-b926-8fd40aafe47b",
   "metadata": {},
   "outputs": [],
   "source": [
    "# Monthly Revenue and Order Count Trend ----> HW\n",
    "\n",
    "# order_purchase_timestamp ---> month\n",
    "\n",
    "# total_orders \n",
    "# total_revenue\n",
    "# avg_order_value\n",
    "# min_order_value\n",
    "# max_orderValues"
   ]
  },
  {
   "cell_type": "code",
   "execution_count": 68,
   "id": "735b1fbf-cf6f-41a6-9bc5-5cb068ae3360",
   "metadata": {
    "tags": []
   },
   "outputs": [
    {
     "name": "stdout",
     "output_type": "stream",
     "text": [
      "+-----------------------------+-----------------------------+\n",
      "|max(order_purchase_timestamp)|min(order_purchase_timestamp)|\n",
      "+-----------------------------+-----------------------------+\n",
      "|          2018-08-28 22:51:54|          2016-10-03 09:44:50|\n",
      "+-----------------------------+-----------------------------+\n",
      "\n"
     ]
    }
   ],
   "source": [
    "df_order_details_full.select(\"order_purchase_timestamp\").agg(max('order_purchase_timestamp'), min('order_purchase_timestamp')).show()"
   ]
  },
  {
   "cell_type": "code",
   "execution_count": 77,
   "id": "f8be3d83-0809-44df-992c-65c3770f4e35",
   "metadata": {
    "tags": []
   },
   "outputs": [
    {
     "name": "stdout",
     "output_type": "stream",
     "text": [
      "+-----+---------------+------------+------------------+\n",
      "|month|monthly_revenue|total_orders|   avg_order_value|\n",
      "+-----+---------------+------------+------------------+\n",
      "|    1|      987156.31|        7505| 131.5331525649567|\n",
      "|    2|     1009762.51|        7831|128.94426126931427|\n",
      "|    3|     1257311.48|        9155| 137.3360436919716|\n",
      "|    4|      1278545.6|        8848|144.50108499095842|\n",
      "|    5|     1436025.14|       10066|142.66095171865686|\n",
      "|    6|     1250004.47|        9023|138.53535077025379|\n",
      "|    7|     1324836.23|        9829| 134.7885064604741|\n",
      "|    8|     1371754.42|       10314|132.99926507659492|\n",
      "|    9|      594869.21|        4042| 147.1719965363681|\n",
      "|   10|      665953.41|        4638|143.58633247089264|\n",
      "|   11|      951446.06|        7059|  134.784822212778|\n",
      "|   12|      686403.66|        5282| 129.9514691404771|\n",
      "+-----+---------------+------------+------------------+\n",
      "\n"
     ]
    }
   ],
   "source": [
    "# Secara rata-rata, bulan apa yang paling tinggi revenue-nya?\n",
    "df_order_details_full.withColumn(\"month\", month(\"order_purchase_timestamp\")) \\\n",
    "    .groupBy(\"month\") \\\n",
    "    .agg(round(sum(\"total_price\"),2).alias(\"monthly_revenue\"),\n",
    "         countDistinct(\"order_id\").alias(\"total_orders\")) \\\n",
    "    .withColumn(\"avg_order_value\", col(\"monthly_revenue\")/col(\"total_orders\")) \\\n",
    "    .orderBy(\"month\") \\\n",
    "    .show()"
   ]
  },
  {
   "cell_type": "code",
   "execution_count": 96,
   "id": "6e1cc4e7-8ca7-4c99-bc86-5b4253e521d9",
   "metadata": {
    "tags": []
   },
   "outputs": [],
   "source": [
    "# Monthly Revenue dari Oktober 2016 sampai Agustus 2018\n",
    "df_order_details_full = df_order_details_full.withColumn(\"year_month\", date_format(\"order_purchase_timestamp\", \"yyyy-MM\"))\n",
    "\n",
    "df_monthly_revenue_trend = df_order_details_full \\\n",
    "    .groupBy(\"year_month\") \\\n",
    "    .agg(round(sum(\"total_price\"),2).alias(\"monthly_revenue\"),\n",
    "         countDistinct(\"order_id\").alias(\"total_orders\")) \\\n",
    "    .withColumn(\"avg_order_value\", round(col(\"monthly_revenue\")/col(\"total_orders\"),2)) \\\n",
    "    .orderBy(\"year_month\")"
   ]
  },
  {
   "cell_type": "code",
   "execution_count": 97,
   "id": "06df67c4-ee39-42b0-b51c-f7d74f2b1b8f",
   "metadata": {
    "tags": []
   },
   "outputs": [
    {
     "name": "stdout",
     "output_type": "stream",
     "text": [
      "+----------+---------------+------------+---------------+\n",
      "|year_month|monthly_revenue|total_orders|avg_order_value|\n",
      "+----------+---------------+------------+---------------+\n",
      "|   2016-10|       39208.56|         255|         153.76|\n",
      "|   2016-12|           10.9|           1|           10.9|\n",
      "|   2017-01|      105436.45|         723|         145.83|\n",
      "|   2017-02|      221159.07|        1577|         140.24|\n",
      "|   2017-03|      347489.86|        2459|         141.31|\n",
      "|   2017-04|      327243.22|        2222|         147.27|\n",
      "|   2017-05|      474248.27|        3437|         137.98|\n",
      "|   2017-06|      409923.48|        3053|         134.27|\n",
      "|   2017-07|      472116.94|        3780|          124.9|\n",
      "|   2017-08|      544668.25|        4088|         133.24|\n",
      "|   2017-09|      594869.21|        4042|         147.17|\n",
      "|   2017-10|      626744.85|        4383|         142.99|\n",
      "|   2017-11|      951446.06|        7059|         134.78|\n",
      "|   2017-12|      686392.76|        5281|         129.97|\n",
      "|   2018-01|      881719.86|        6782|         130.01|\n",
      "|   2018-02|      788603.44|        6254|          126.1|\n",
      "|   2018-03|      909821.62|        6696|         135.88|\n",
      "|   2018-04|      951302.38|        6626|         143.57|\n",
      "|   2018-05|      961776.87|        6629|         145.09|\n",
      "|   2018-06|      840080.99|        5970|         140.72|\n",
      "|   2018-07|      852719.29|        6049|         140.97|\n",
      "|   2018-08|      827086.17|        6226|         132.84|\n",
      "+----------+---------------+------------+---------------+\n",
      "\n"
     ]
    }
   ],
   "source": [
    "df_monthly_revenue_trend.show(50)"
   ]
  },
  {
   "cell_type": "code",
   "execution_count": 101,
   "id": "ecd887e4-daa3-4bb9-a1a9-a6d8d952cbab",
   "metadata": {
    "tags": []
   },
   "outputs": [
    {
     "data": {
      "text/plain": [
       "<Axes: xlabel='year_month'>"
      ]
     },
     "execution_count": 101,
     "metadata": {},
     "output_type": "execute_result"
    },
    {
     "data": {
      "image/png": "[encoded data removed]",
      "text/plain": [
       "<Figure size 1200x600 with 1 Axes>"
      ]
     },
     "metadata": {},
     "output_type": "display_data"
    }
   ],
   "source": [
    "df_monthly_revenue_trend_pd = df_monthly_revenue_trend.toPandas()\n",
    "df_monthly_revenue_trend_pd.plot(x=\"year_month\", y=[\"monthly_revenue\"], figsize=(12,6))"
   ]
  },
  {
   "cell_type": "code",
   "execution_count": 112,
   "id": "8422948c-9725-4238-9f36-36d758d8c202",
   "metadata": {
    "tags": []
   },
   "outputs": [],
   "source": [
    "df_order_value = df_order_details_full.groupBy(\"order_id\") \\\n",
    "    .agg(sum(\"total_price\").alias(\"total_order_value\"),\n",
    "         date_format(first(\"order_purchase_timestamp\"), \"yyyy-MM\").alias(\"year_month\")) \\\n",
    "    .groupBy(\"year_month\") \\\n",
    "    .agg(min(\"total_order_value\"), max(\"total_order_value\"))"
   ]
  },
  {
   "cell_type": "code",
   "execution_count": 113,
   "id": "43d8579e-096f-4888-bda5-1ef66c8dbb0c",
   "metadata": {
    "tags": []
   },
   "outputs": [
    {
     "name": "stderr",
     "output_type": "stream",
     "text": [
      "                                                                                \r"
     ]
    },
    {
     "name": "stdout",
     "output_type": "stream",
     "text": [
      "+----------+---------------+------------+---------------+----------------------+----------------------+\n",
      "|year_month|monthly_revenue|total_orders|avg_order_value|min(total_order_value)|max(total_order_value)|\n",
      "+----------+---------------+------------+---------------+----------------------+----------------------+\n",
      "|   2016-10|       39208.56|         255|         153.76|                   6.0|                1399.0|\n",
      "|   2016-12|           10.9|           1|           10.9|                  10.9|                  10.9|\n",
      "|   2017-01|      105436.45|         723|         145.83|                   2.9|                2999.0|\n",
      "|   2017-02|      221159.07|        1577|         140.24|                   5.9|                6735.0|\n",
      "|   2017-03|      347489.86|        2459|         141.31|                   4.9|                3999.9|\n",
      "|   2017-04|      327243.22|        2222|         147.27|                   4.9|                4799.0|\n",
      "|   2017-05|      474248.27|        3437|         137.98|                   4.5|                6499.0|\n",
      "|   2017-06|      409923.48|        3053|         134.27|                  3.49|               2999.89|\n",
      "|   2017-07|      472116.94|        3780|          124.9|                   3.9|               2999.89|\n",
      "|   2017-08|      544668.25|        4088|         133.24|                  3.99|               2159.98|\n",
      "|   2017-09|      594869.21|        4042|         147.17|                  2.29|               13440.0|\n",
      "|   2017-10|      626744.85|        4383|         142.99|                  3.85|               2999.99|\n",
      "|   2017-11|      951446.06|        7059|         134.78|                   3.9|                5934.6|\n",
      "|   2017-12|      686392.76|        5281|         129.97|                   5.4|                3124.0|\n",
      "|   2018-01|      881719.86|        6782|         130.01|                  4.99|                3690.0|\n",
      "|   2018-02|      788603.44|        6254|          126.1|                  2.99|                3300.0|\n",
      "|   2018-03|      909821.62|        6696|         135.88|                  4.99|               4099.99|\n",
      "|   2018-04|      951302.38|        6626|         143.57|                  0.85|               3399.99|\n",
      "|   2018-05|      961776.87|        6629|         145.09|                  4.99|                4400.0|\n",
      "|   2018-06|      840080.99|        5970|         140.72|                   3.5|                4590.0|\n",
      "|   2018-07|      852719.29|        6049|         140.97|                   6.1|                7160.0|\n",
      "|   2018-08|      827086.17|        6226|         132.84|                   2.2|               4399.87|\n",
      "+----------+---------------+------------+---------------+----------------------+----------------------+\n",
      "\n"
     ]
    }
   ],
   "source": [
    "df_monthly_revenue_trend_join = df_monthly_revenue_trend.join(df_order_value, 'year_month', 'inner').orderBy(\"year_month\")\n",
    "df_monthly_revenue_trend_join.show(50)"
   ]
  },
  {
   "cell_type": "code",
   "execution_count": 116,
   "id": "30356156-9b22-451f-bf52-7da6fd9ec805",
   "metadata": {
    "tags": []
   },
   "outputs": [],
   "source": [
    "# Cara kedua lebih sederhana\n",
    "\n",
    "df_order_value = df_order_details_full.groupBy(\"order_id\") \\\n",
    "    .agg(sum(\"total_price\").alias(\"order_value\"),\n",
    "         date_format(first(\"order_purchase_timestamp\"), \"yyyy-MM\").alias(\"year_month\"))\n",
    "\n",
    "df_monthly_revenue_trend = df_order_value.groupBy(\"year_month\") \\\n",
    "    .agg(\n",
    "        round(sum(\"order_value\"), 2).alias(\"monthly_revenue\"),\n",
    "        count(\"order_id\").alias(\"total_orders\"),\n",
    "        round(min(\"order_value\"), 2).alias(\"min_order_value\"),\n",
    "        round(max(\"order_value\"), 2).alias(\"max_order_value\"),\n",
    "        round(avg(\"order_value\"), 2).alias(\"avg_order_value\")\n",
    "    ).orderBy(\"year_month\")"
   ]
  },
  {
   "cell_type": "code",
   "execution_count": 117,
   "id": "ceb5873c-2e7d-454c-9fb0-c86779f7a1ca",
   "metadata": {
    "tags": []
   },
   "outputs": [
    {
     "name": "stdout",
     "output_type": "stream",
     "text": [
      "+----------+---------------+------------+---------------+---------------+---------------+\n",
      "|year_month|monthly_revenue|total_orders|min_order_value|max_order_value|avg_order_value|\n",
      "+----------+---------------+------------+---------------+---------------+---------------+\n",
      "|   2016-10|       39208.56|         255|            6.0|         1399.0|         153.76|\n",
      "|   2016-12|           10.9|           1|           10.9|           10.9|           10.9|\n",
      "|   2017-01|      105436.45|         723|            2.9|         2999.0|         145.83|\n",
      "|   2017-02|      221159.07|        1577|            5.9|         6735.0|         140.24|\n",
      "|   2017-03|      347489.86|        2459|            4.9|         3999.9|         141.31|\n",
      "|   2017-04|      327243.22|        2222|            4.9|         4799.0|         147.27|\n",
      "|   2017-05|      474248.27|        3437|            4.5|         6499.0|         137.98|\n",
      "|   2017-06|      409923.48|        3053|           3.49|        2999.89|         134.27|\n",
      "|   2017-07|      472116.94|        3780|            3.9|        2999.89|          124.9|\n",
      "|   2017-08|      544668.25|        4088|           3.99|        2159.98|         133.24|\n",
      "|   2017-09|      594869.21|        4042|           2.29|        13440.0|         147.17|\n",
      "|   2017-10|      626744.85|        4383|           3.85|        2999.99|         142.99|\n",
      "|   2017-11|      951446.06|        7059|            3.9|         5934.6|         134.78|\n",
      "|   2017-12|      686392.76|        5281|            5.4|         3124.0|         129.97|\n",
      "|   2018-01|      881719.86|        6782|           4.99|         3690.0|         130.01|\n",
      "|   2018-02|      788603.44|        6254|           2.99|         3300.0|          126.1|\n",
      "|   2018-03|      909821.62|        6696|           4.99|        4099.99|         135.88|\n",
      "|   2018-04|      951302.38|        6626|           0.85|        3399.99|         143.57|\n",
      "|   2018-05|      961776.87|        6629|           4.99|         4400.0|         145.09|\n",
      "|   2018-06|      840080.99|        5970|            3.5|         4590.0|         140.72|\n",
      "|   2018-07|      852719.29|        6049|            6.1|         7160.0|         140.97|\n",
      "|   2018-08|      827086.17|        6226|            2.2|        4399.87|         132.84|\n",
      "+----------+---------------+------------+---------------+---------------+---------------+\n",
      "\n"
     ]
    }
   ],
   "source": [
    "df_monthly_revenue_trend.show(50)"
   ]
  },
  {
   "cell_type": "markdown",
   "id": "9981a495-b7cf-4da6-8fb7-8dac4368f550",
   "metadata": {},
   "source": [
    "### # Customer Retention Analysis ( First & Last Order )\n"
   ]
  },
  {
   "cell_type": "code",
   "execution_count": 118,
   "id": "f3b26da9-8733-415e-96a4-126557514fa4",
   "metadata": {
    "tags": []
   },
   "outputs": [],
   "source": [
    "# Customer Retention Analysis ( First & Last Order )\n",
    "df_customer_lifespan = df_orders.groupBy(\"customer_id\") \\\n",
    "    .agg(\n",
    "        min(\"order_purchase_timestamp\").alias(\"first_order_date\"),\n",
    "        max(\"order_purchase_timestamp\").alias(\"last_order_date\")\n",
    "    ) \\\n",
    "    .withColumn(\"days_between\", datediff(\"last_order_date\", \"first_order_date\")) \\\n",
    "    .orderBy(desc(\"days_between\"))"
   ]
  },
  {
   "cell_type": "code",
   "execution_count": 119,
   "id": "5a4b21a7-9989-4453-8910-84b9bffc6a3d",
   "metadata": {
    "tags": []
   },
   "outputs": [
    {
     "name": "stdout",
     "output_type": "stream",
     "text": [
      "+--------------------+-------------------+-------------------+------------+\n",
      "|         customer_id|   first_order_date|    last_order_date|days_between|\n",
      "+--------------------+-------------------+-------------------+------------+\n",
      "|2ef8398f62042a2b4...|2017-11-21 20:48:32|2017-11-21 20:48:32|           0|\n",
      "|30af142d1d13f49ef...|2018-02-23 23:24:49|2018-02-23 23:24:49|           0|\n",
      "|90d7075599361b694...|2017-07-28 17:03:33|2017-07-28 17:03:33|           0|\n",
      "|3391c4bc11a817e79...|2018-03-26 17:12:18|2018-03-26 17:12:18|           0|\n",
      "|57d74bba7d8b5157d...|2017-06-23 09:27:56|2017-06-23 09:27:56|           0|\n",
      "|9687241c8ed401845...|2017-06-03 10:33:55|2017-06-03 10:33:55|           0|\n",
      "|c61b59e94df1163ca...|2018-03-06 13:22:10|2018-03-06 13:22:10|           0|\n",
      "|18dff7c2afb1ce5fb...|2017-11-24 12:59:43|2017-11-24 12:59:43|           0|\n",
      "|9801ac60f0291d180...|2018-07-02 12:00:14|2018-07-02 12:00:14|           0|\n",
      "|21d2c3ed27ae18bdb...|2018-04-23 13:49:33|2018-04-23 13:49:33|           0|\n",
      "|ac9b518157bd24e32...|2017-10-23 19:29:00|2017-10-23 19:29:00|           0|\n",
      "|ea14f618eddbb42cc...|2017-03-06 12:52:25|2017-03-06 12:52:25|           0|\n",
      "|333d057b8000f250b...|2018-07-03 22:53:45|2018-07-03 22:53:45|           0|\n",
      "|175e7271f89704b7a...|2017-05-28 21:10:48|2017-05-28 21:10:48|           0|\n",
      "|3e1180884767238f0...|2018-05-09 13:05:32|2018-05-09 13:05:32|           0|\n",
      "|50fe74772bbe79551...|2017-11-08 15:37:57|2017-11-08 15:37:57|           0|\n",
      "|6c8dc19e9aa79a2c4...|2018-08-14 18:06:34|2018-08-14 18:06:34|           0|\n",
      "|dbb869d4cbd925955...|2017-06-25 18:23:50|2017-06-25 18:23:50|           0|\n",
      "|3f0f45bd49f790854...|2017-08-23 10:04:56|2017-08-23 10:04:56|           0|\n",
      "|26397f9b3de2b37e5...|2018-07-19 16:54:57|2018-07-19 16:54:57|           0|\n",
      "+--------------------+-------------------+-------------------+------------+\n",
      "only showing top 20 rows\n",
      "\n"
     ]
    }
   ],
   "source": [
    "df_customer_lifespan.show()"
   ]
  },
  {
   "cell_type": "code",
   "execution_count": 121,
   "id": "7bac0975-617d-43da-b376-cb0a9551e893",
   "metadata": {
    "tags": []
   },
   "outputs": [
    {
     "name": "stderr",
     "output_type": "stream",
     "text": [
      "[Stage 325:============================>                            (1 + 1) / 2]\r"
     ]
    },
    {
     "name": "stdout",
     "output_type": "stream",
     "text": [
      "+------------+--------------+\n",
      "|days_between|customer_count|\n",
      "+------------+--------------+\n",
      "|           0|         94912|\n",
      "+------------+--------------+\n",
      "\n"
     ]
    },
    {
     "name": "stderr",
     "output_type": "stream",
     "text": [
      "                                                                                \r"
     ]
    }
   ],
   "source": [
    "df_customer_lifespan.groupBy(\"days_between\").agg(count(\"*\").alias(\"customer_count\")).orderBy(\"days_between\").show()"
   ]
  },
  {
   "cell_type": "markdown",
   "id": "eb9d643b-fc90-4555-9026-4ec5ef0d9ff0",
   "metadata": {},
   "source": [
    "Customer Retention Analysis (First & Last Order)\n",
    "\n",
    "Analisis ini bertujuan untuk mengukur rentang waktu antara pembelian pertama dan terakhir \n",
    "yang dilakukan oleh setiap customer, sebagai dasar untuk melihat tingkat retensi pelanggan.\n",
    "Namun, berdasarkan data yang tersedia, setiap customer hanya memiliki satu order (satu order_id).\n",
    "Akibatnya, tanggal pembelian pertama dan terakhir selalu sama, sehingga nilai days_between = 0 untuk semua customer.\n",
    "Dengan kondisi ini, analisis retensi tidak dapat dilakukan lebih lanjut karena tidak ada pembelian berulang.\n"
   ]
  },
  {
   "cell_type": "markdown",
   "id": "c6c9fe2d-4a76-4e33-9175-2fb5e52a12bd",
   "metadata": {},
   "source": [
    "### # Order Revenue Calcualtion"
   ]
  },
  {
   "cell_type": "code",
   "execution_count": 123,
   "id": "12f35b06-23ea-4000-b6d3-63d53b048d1e",
   "metadata": {
    "tags": []
   },
   "outputs": [
    {
     "name": "stdout",
     "output_type": "stream",
     "text": [
      "root\n",
      " |-- order_id: string (nullable = true)\n",
      " |-- seller_id: string (nullable = true)\n",
      " |-- product_id: string (nullable = true)\n",
      " |-- customer_id: string (nullable = true)\n",
      " |-- order_status: string (nullable = true)\n",
      " |-- order_purchase_timestamp: timestamp (nullable = true)\n",
      " |-- order_approved_at: timestamp (nullable = true)\n",
      " |-- order_delivered_carrier_date: timestamp (nullable = true)\n",
      " |-- order_delivered_customer_date: timestamp (nullable = true)\n",
      " |-- order_estimated_delivery_date: date (nullable = true)\n",
      " |-- delivery_time: integer (nullable = true)\n",
      " |-- shipping_limit_date: timestamp (nullable = true)\n",
      " |-- total_price: double (nullable = true)\n",
      " |-- total_freight: double (nullable = true)\n",
      " |-- qty: integer (nullable = true)\n",
      " |-- total_order_value: double (nullable = true)\n",
      " |-- customer_unique_id: string (nullable = true)\n",
      " |-- customer_zip_code_prefix: string (nullable = true)\n",
      " |-- customer_city: string (nullable = true)\n",
      " |-- customer_state: string (nullable = true)\n",
      " |-- product_category_name: string (nullable = true)\n",
      " |-- product_category_name_english: string (nullable = true)\n",
      " |-- product_name_length: integer (nullable = true)\n",
      " |-- product_description_length: integer (nullable = true)\n",
      " |-- product_photos_qty: integer (nullable = true)\n",
      " |-- product_weight_g: integer (nullable = true)\n",
      " |-- product_weight_kg: double (nullable = true)\n",
      " |-- product_length_cm: integer (nullable = true)\n",
      " |-- product_height_cm: integer (nullable = true)\n",
      " |-- product_width_cm: integer (nullable = true)\n",
      " |-- product_volume_cm3: integer (nullable = true)\n",
      " |-- product_size_category: string (nullable = true)\n",
      " |-- seller_zip_code_prefix: string (nullable = true)\n",
      " |-- seller_city: string (nullable = true)\n",
      " |-- seller_state: string (nullable = true)\n",
      " |-- geolocation_zip_code_prefix: integer (nullable = true)\n",
      " |-- geolocation_lat: double (nullable = true)\n",
      " |-- geolocation_lng: double (nullable = true)\n",
      " |-- geolocation_city: string (nullable = true)\n",
      " |-- geolocation_state: string (nullable = true)\n",
      " |-- review_id: string (nullable = true)\n",
      " |-- review_score: integer (nullable = true)\n",
      " |-- review_comment_title: string (nullable = true)\n",
      " |-- review_comment_message: string (nullable = true)\n",
      " |-- review_creation_date: date (nullable = true)\n",
      " |-- review_answer_timestamp: timestamp (nullable = true)\n",
      " |-- total_payment: double (nullable = true)\n",
      " |-- payment_type: array (nullable = true)\n",
      " |    |-- element: string (containsNull = true)\n",
      " |-- payment_installments: array (nullable = true)\n",
      " |    |-- element: integer (containsNull = true)\n",
      " |-- year_month: string (nullable = true)\n",
      "\n"
     ]
    }
   ],
   "source": [
    "# Order Revenue Calcualtion\n",
    "df_order_details_full.printSchema()\n",
    "# total_order_value -> total_price + total_freight untuk 1 product_id yang berjumlah n qty"
   ]
  },
  {
   "cell_type": "code",
   "execution_count": 128,
   "id": "38bb0fb3-a497-4378-9d59-7cff0fbf4141",
   "metadata": {
    "tags": []
   },
   "outputs": [
    {
     "name": "stdout",
     "output_type": "stream",
     "text": [
      "+--------------------+----------------------------+\n",
      "|            order_id|total_revenue(price&freight)|\n",
      "+--------------------+----------------------------+\n",
      "|019886de8f385a39b...|                       188.4|\n",
      "|05bef443b85068505...|                       79.52|\n",
      "|077700dcf4e3bb412...|                      215.05|\n",
      "|0e4672661531addf3...|                     1304.02|\n",
      "|118045506e1c1dda0...|                       360.4|\n",
      "|12404c66f4ea97b16...|                       62.44|\n",
      "|14129c568e62c007a...|                      152.35|\n",
      "|1826d2a2eb6ba6e3e...|                      232.83|\n",
      "|1c4a92d82c1b0dec1...|                      249.05|\n",
      "|236d48ee787db9dbd...|                        51.1|\n",
      "|251f0a3981c4a8cb8...|                       93.15|\n",
      "|3303092810c37e9ab...|                      559.26|\n",
      "|39a2c5163845188e0...|                      176.78|\n",
      "|3e5d60bbe5a6016db...|                       22.75|\n",
      "|3e654c7f3c4a852f6...|                      136.93|\n",
      "|414a0b1cbb58b3ae7...|                       78.96|\n",
      "|43ed2e201f59c4d2f...|                      185.94|\n",
      "|4e374e4dfd548826b...|                       92.21|\n",
      "|4e88622fff810dd27...|                      103.26|\n",
      "|502d7a6ef832644f5...|                       80.92|\n",
      "+--------------------+----------------------------+\n",
      "only showing top 20 rows\n",
      "\n"
     ]
    }
   ],
   "source": [
    "df_order_details_full.groupBy(\"order_id\").agg(round(sum(\"total_order_value\"),2).alias(\"total_revenue(price&freight)\")).show()"
   ]
  },
  {
   "cell_type": "markdown",
   "id": "a6a9832e-3036-4315-b840-c5e08c694530",
   "metadata": {},
   "source": [
    "### # Customer Segmentation based on spending"
   ]
  },
  {
   "cell_type": "code",
   "execution_count": 136,
   "id": "1b766246-2991-4f41-8de3-6d74bacab648",
   "metadata": {
    "tags": []
   },
   "outputs": [],
   "source": [
    "# Customer Segmentation based on spending -> ambil dari customer_aov_df\n",
    "\n",
    "customer_segmentation = customer_aov_df \\\n",
    ".withColumn(\"total_spent\", round(\"total_spent\",2)) \\\n",
    ".withColumn(\"segment\", \n",
    "    when(col(\"total_spent\") >= 8000, \"Top Spender\")\n",
    "   .when(col(\"total_spent\") >= 5000, \"High Spender\")\n",
    "   .when(col(\"total_spent\") >= 1000, \"Mid Spender\")\n",
    "   .otherwise(\"Low Spender\")\n",
    ").orderBy(desc(\"total_spent\"))"
   ]
  },
  {
   "cell_type": "code",
   "execution_count": 138,
   "id": "94dec294-f1cf-4e91-ab0a-342620393656",
   "metadata": {
    "tags": []
   },
   "outputs": [
    {
     "name": "stdout",
     "output_type": "stream",
     "text": [
      "+------------------------+-----------+\n",
      "|order_purchase_timestamp|hour_of_day|\n",
      "+------------------------+-----------+\n",
      "|     2017-04-26 10:53:06|         10|\n",
      "|     2018-07-04 12:08:27|         12|\n",
      "|     2018-03-19 18:40:33|         18|\n",
      "|     2018-07-02 13:59:39|         13|\n",
      "|     2018-03-24 22:16:10|         22|\n",
      "|     2018-07-27 17:21:27|         17|\n",
      "|     2018-04-25 09:10:41|          9|\n",
      "|     2018-02-22 11:54:42|         11|\n",
      "|     2017-11-21 18:54:23|         18|\n",
      "|     2018-02-27 09:27:14|          9|\n",
      "+------------------------+-----------+\n",
      "only showing top 10 rows\n",
      "\n"
     ]
    }
   ],
   "source": [
    "# Extract hour\n",
    "df_order_details_full = df_order_details_full.withColumn(\"hour_of_day\", hour(col(\"order_purchase_timestamp\")))\n",
    "df_order_details_full.select(\"order_purchase_timestamp\", \"hour_of_day\").show(10)"
   ]
  },
  {
   "cell_type": "code",
   "execution_count": 139,
   "id": "bd1fe492-8eba-4473-9a10-1866f89f7a56",
   "metadata": {
    "tags": []
   },
   "outputs": [],
   "source": [
    "# Weekday vs Weekend Order\n",
    "df_order_details_full = df_order_details_full \\\n",
    ".withColumn(\"day_type\", when(dayofweek(\"order_purchase_timestamp\").isin([1, 7]), \"Weekend\").otherwise(\"Weekday\"))"
   ]
  },
  {
   "cell_type": "code",
   "execution_count": 142,
   "id": "1bbdfc63-01e1-4a46-972b-7217e54c3e5c",
   "metadata": {
    "tags": []
   },
   "outputs": [
    {
     "name": "stdout",
     "output_type": "stream",
     "text": [
      "+------------------------+-----------+--------+----------+\n",
      "|order_purchase_timestamp|hour_of_day|day_type|year_month|\n",
      "+------------------------+-----------+--------+----------+\n",
      "|     2018-02-22 11:54:42|         11| Weekday|   2018-02|\n",
      "|     2018-02-27 09:27:14|          9| Weekday|   2018-02|\n",
      "|     2018-02-06 19:11:57|         19| Weekday|   2018-02|\n",
      "|     2018-02-27 17:46:23|         17| Weekday|   2018-02|\n",
      "|     2018-02-21 02:46:23|          2| Weekday|   2018-02|\n",
      "|     2018-02-02 19:39:46|         19| Weekday|   2018-02|\n",
      "|     2018-02-06 13:06:45|         13| Weekday|   2018-02|\n",
      "|     2018-02-09 18:00:00|         18| Weekday|   2018-02|\n",
      "|     2018-02-23 14:36:15|         14| Weekday|   2018-02|\n",
      "|     2018-02-18 16:22:23|         16| Weekend|   2018-02|\n",
      "|     2018-02-18 14:19:55|         14| Weekend|   2018-02|\n",
      "|     2018-02-21 12:11:48|         12| Weekday|   2018-02|\n",
      "|     2018-02-24 13:05:44|         13| Weekend|   2018-02|\n",
      "|     2018-02-11 00:36:56|          0| Weekend|   2018-02|\n",
      "|     2018-02-11 13:18:12|         13| Weekend|   2018-02|\n",
      "|     2018-02-25 12:08:45|         12| Weekend|   2018-02|\n",
      "|     2018-02-09 17:28:05|         17| Weekday|   2018-02|\n",
      "|     2018-02-03 00:01:19|          0| Weekend|   2018-02|\n",
      "|     2018-02-01 17:31:00|         17| Weekday|   2018-02|\n",
      "|     2018-02-08 15:31:37|         15| Weekday|   2018-02|\n",
      "+------------------------+-----------+--------+----------+\n",
      "only showing top 20 rows\n",
      "\n"
     ]
    }
   ],
   "source": [
    "df_order_details_full.select(\"order_purchase_timestamp\", \"hour_of_day\", \"day_type\", \"year_month\").filter(\"year_month = '2018-02'\").show()"
   ]
  },
  {
   "cell_type": "code",
   "execution_count": 143,
   "id": "5614d782-8815-48c2-903c-98fbc37f504e",
   "metadata": {
    "tags": []
   },
   "outputs": [
    {
     "name": "stdout",
     "output_type": "stream",
     "text": [
      "root\n",
      " |-- order_id: string (nullable = true)\n",
      " |-- seller_id: string (nullable = true)\n",
      " |-- product_id: string (nullable = true)\n",
      " |-- customer_id: string (nullable = true)\n",
      " |-- order_status: string (nullable = true)\n",
      " |-- order_purchase_timestamp: timestamp (nullable = true)\n",
      " |-- order_approved_at: timestamp (nullable = true)\n",
      " |-- order_delivered_carrier_date: timestamp (nullable = true)\n",
      " |-- order_delivered_customer_date: timestamp (nullable = true)\n",
      " |-- order_estimated_delivery_date: date (nullable = true)\n",
      " |-- delivery_time: integer (nullable = true)\n",
      " |-- shipping_limit_date: timestamp (nullable = true)\n",
      " |-- total_price: double (nullable = true)\n",
      " |-- total_freight: double (nullable = true)\n",
      " |-- qty: integer (nullable = true)\n",
      " |-- total_order_value: double (nullable = true)\n",
      " |-- customer_unique_id: string (nullable = true)\n",
      " |-- customer_zip_code_prefix: string (nullable = true)\n",
      " |-- customer_city: string (nullable = true)\n",
      " |-- customer_state: string (nullable = true)\n",
      " |-- product_category_name: string (nullable = true)\n",
      " |-- product_category_name_english: string (nullable = true)\n",
      " |-- product_name_length: integer (nullable = true)\n",
      " |-- product_description_length: integer (nullable = true)\n",
      " |-- product_photos_qty: integer (nullable = true)\n",
      " |-- product_weight_g: integer (nullable = true)\n",
      " |-- product_weight_kg: double (nullable = true)\n",
      " |-- product_length_cm: integer (nullable = true)\n",
      " |-- product_height_cm: integer (nullable = true)\n",
      " |-- product_width_cm: integer (nullable = true)\n",
      " |-- product_volume_cm3: integer (nullable = true)\n",
      " |-- product_size_category: string (nullable = true)\n",
      " |-- seller_zip_code_prefix: string (nullable = true)\n",
      " |-- seller_city: string (nullable = true)\n",
      " |-- seller_state: string (nullable = true)\n",
      " |-- geolocation_zip_code_prefix: integer (nullable = true)\n",
      " |-- geolocation_lat: double (nullable = true)\n",
      " |-- geolocation_lng: double (nullable = true)\n",
      " |-- geolocation_city: string (nullable = true)\n",
      " |-- geolocation_state: string (nullable = true)\n",
      " |-- review_id: string (nullable = true)\n",
      " |-- review_score: integer (nullable = true)\n",
      " |-- review_comment_title: string (nullable = true)\n",
      " |-- review_comment_message: string (nullable = true)\n",
      " |-- review_creation_date: date (nullable = true)\n",
      " |-- review_answer_timestamp: timestamp (nullable = true)\n",
      " |-- total_payment: double (nullable = true)\n",
      " |-- payment_type: array (nullable = true)\n",
      " |    |-- element: string (containsNull = true)\n",
      " |-- payment_installments: array (nullable = true)\n",
      " |    |-- element: integer (containsNull = true)\n",
      " |-- year_month: string (nullable = true)\n",
      " |-- hour_of_day: integer (nullable = true)\n",
      " |-- day_type: string (nullable = false)\n",
      "\n"
     ]
    }
   ],
   "source": [
    "df_order_details_full.printSchema()"
   ]
  },
  {
   "cell_type": "markdown",
   "id": "fcce5ee2-6f5e-4c90-82f5-c20bec7727d3",
   "metadata": {},
   "source": [
    "## Data Serving"
   ]
  },
  {
   "cell_type": "markdown",
   "id": "f2e3c27e-3024-4608-8738-1d8036830fdb",
   "metadata": {},
   "source": [
    "Save it into GCS"
   ]
  },
  {
   "cell_type": "code",
   "execution_count": 145,
   "id": "175863fa-af21-44ca-b56b-5b8004ae3815",
   "metadata": {
    "tags": []
   },
   "outputs": [
    {
     "name": "stderr",
     "output_type": "stream",
     "text": [
      "                                                                                \r"
     ]
    }
   ],
   "source": [
    "df_order_details_full.write.mode('overwrite').parquet(f'{path_head}/processed/')"
   ]
  },
  {
   "cell_type": "markdown",
   "id": "946e15d8-b83b-4741-b067-0493abea99fb",
   "metadata": {},
   "source": [
    "Save it into HDFS"
   ]
  },
  {
   "cell_type": "code",
   "execution_count": 148,
   "id": "7f722244-9e9e-47a7-981c-1d1d2ddd734a",
   "metadata": {
    "tags": []
   },
   "outputs": [
    {
     "name": "stdout",
     "output_type": "stream",
     "text": [
      "Found 9 items\n",
      "-rw-r--r--   2 root hadoop      8.6 M 2025-06-13 01:56 /datahdfs/ecommerce_real/olist_customers_dataset.csv\n",
      "-rw-r--r--   2 root hadoop     58.4 M 2025-06-13 01:56 /datahdfs/ecommerce_real/olist_geolocation_dataset.csv\n",
      "-rw-r--r--   2 root hadoop     14.7 M 2025-06-13 01:56 /datahdfs/ecommerce_real/olist_order_items_dataset.csv\n",
      "-rw-r--r--   2 root hadoop      5.5 M 2025-06-13 01:56 /datahdfs/ecommerce_real/olist_order_payments_dataset.csv\n",
      "-rw-r--r--   2 root hadoop     13.8 M 2025-06-13 01:56 /datahdfs/ecommerce_real/olist_order_reviews_dataset.csv\n",
      "-rw-r--r--   2 root hadoop     16.8 M 2025-06-13 01:56 /datahdfs/ecommerce_real/olist_orders_dataset.csv\n",
      "-rw-r--r--   2 root hadoop      2.3 M 2025-06-13 01:56 /datahdfs/ecommerce_real/olist_products_dataset.csv\n",
      "-rw-r--r--   2 root hadoop    170.6 K 2025-06-13 01:56 /datahdfs/ecommerce_real/olist_sellers_dataset.csv\n",
      "-rw-r--r--   2 root hadoop      2.6 K 2025-06-13 01:56 /datahdfs/ecommerce_real/product_category_name_translation.csv\n"
     ]
    }
   ],
   "source": [
    "!hadoop fs -ls -h /datahdfs/ecommerce_real"
   ]
  },
  {
   "cell_type": "code",
   "execution_count": 149,
   "id": "6b75642f-49ab-4aee-953a-da9d0ca11c84",
   "metadata": {
    "tags": []
   },
   "outputs": [
    {
     "name": "stderr",
     "output_type": "stream",
     "text": [
      "                                                                                \r"
     ]
    }
   ],
   "source": [
    "df_order_details_full.write.mode('overwrite').parquet(f'/datahdfs/ecommerce_real/processed')"
   ]
  },
  {
   "cell_type": "code",
   "execution_count": 150,
   "id": "3c353a51-2e5f-4584-8bf2-481afbd652d8",
   "metadata": {
    "tags": []
   },
   "outputs": [
    {
     "name": "stdout",
     "output_type": "stream",
     "text": [
      "Found 10 items\n",
      "-rw-r--r--   2 root hadoop      8.6 M 2025-06-13 01:56 /datahdfs/ecommerce_real/olist_customers_dataset.csv\n",
      "-rw-r--r--   2 root hadoop     58.4 M 2025-06-13 01:56 /datahdfs/ecommerce_real/olist_geolocation_dataset.csv\n",
      "-rw-r--r--   2 root hadoop     14.7 M 2025-06-13 01:56 /datahdfs/ecommerce_real/olist_order_items_dataset.csv\n",
      "-rw-r--r--   2 root hadoop      5.5 M 2025-06-13 01:56 /datahdfs/ecommerce_real/olist_order_payments_dataset.csv\n",
      "-rw-r--r--   2 root hadoop     13.8 M 2025-06-13 01:56 /datahdfs/ecommerce_real/olist_order_reviews_dataset.csv\n",
      "-rw-r--r--   2 root hadoop     16.8 M 2025-06-13 01:56 /datahdfs/ecommerce_real/olist_orders_dataset.csv\n",
      "-rw-r--r--   2 root hadoop      2.3 M 2025-06-13 01:56 /datahdfs/ecommerce_real/olist_products_dataset.csv\n",
      "-rw-r--r--   2 root hadoop    170.6 K 2025-06-13 01:56 /datahdfs/ecommerce_real/olist_sellers_dataset.csv\n",
      "drwxr-xr-x   - root hadoop          0 2025-06-14 08:12 /datahdfs/ecommerce_real/processed\n",
      "-rw-r--r--   2 root hadoop      2.6 K 2025-06-13 01:56 /datahdfs/ecommerce_real/product_category_name_translation.csv\n"
     ]
    }
   ],
   "source": [
    "!hadoop fs -ls -h /datahdfs/ecommerce_real"
   ]
  },
  {
   "cell_type": "code",
   "execution_count": 151,
   "id": "2240867c-7c7e-49fb-9717-6a5ef6ec090d",
   "metadata": {
    "tags": []
   },
   "outputs": [
    {
     "name": "stdout",
     "output_type": "stream",
     "text": [
      "Deleted /datahdfs/ecommerce_real\n"
     ]
    }
   ],
   "source": [
    "# since i don't want to save it into HDFS, i will delete it (due to GCP free credit)\n",
    "!hadoop fs -rm -R /datahdfs/*"
   ]
  },
  {
   "cell_type": "code",
   "execution_count": 153,
   "id": "fa8b3844-b1c6-4741-b0ba-a31f087b8ebc",
   "metadata": {
    "tags": []
   },
   "outputs": [],
   "source": [
    "!hadoop fs -ls -h /datahdfs"
   ]
  },
  {
   "cell_type": "markdown",
   "id": "5217bf75-0c9b-4ef9-8221-c5ee6b7618d8",
   "metadata": {},
   "source": [
    "Save it into Table"
   ]
  },
  {
   "cell_type": "code",
   "execution_count": 154,
   "id": "cd80dc05-b42a-4e5b-be54-14c7230379b5",
   "metadata": {
    "tags": []
   },
   "outputs": [
    {
     "name": "stderr",
     "output_type": "stream",
     "text": [
      "ivysettings.xml file not found in HIVE_HOME or HIVE_CONF_DIR,/etc/hive/conf.dist/ivysettings.xml will be used\n",
      "25/06/14 08:17:18 WARN SessionState: METASTORE_FILTER_HOOK will be ignored, since hive.security.authorization.manager is set to instance of HiveAuthorizerFactory.\n"
     ]
    }
   ],
   "source": [
    "df_order_details_full.write.mode('overwrite').saveAsTable('order_details_full')"
   ]
  },
  {
   "cell_type": "code",
   "execution_count": 156,
   "id": "304e3d12-56e6-4641-923e-456d7bd6ed7e",
   "metadata": {
    "tags": []
   },
   "outputs": [
    {
     "name": "stdout",
     "output_type": "stream",
     "text": [
      "+---------+------------------+-----------+\n",
      "|namespace|         tableName|isTemporary|\n",
      "+---------+------------------+-----------+\n",
      "|  default|order_details_full|      false|\n",
      "+---------+------------------+-----------+\n",
      "\n"
     ]
    }
   ],
   "source": [
    "spark.sql(\"SHOW TABLES\").show()"
   ]
  },
  {
   "cell_type": "code",
   "execution_count": 158,
   "id": "6af4fc8b-e70f-4000-9efe-6483fbfb5275",
   "metadata": {
    "tags": []
   },
   "outputs": [
    {
     "name": "stdout",
     "output_type": "stream",
     "text": [
      "+------------------------+-----------+--------+----------+\n",
      "|order_purchase_timestamp|hour_of_day|day_type|year_month|\n",
      "+------------------------+-----------+--------+----------+\n",
      "|     2017-09-13 08:59:02|          8| Weekday|   2017-09|\n",
      "|     2018-01-14 14:33:31|         14| Weekend|   2018-01|\n",
      "|     2018-08-08 10:00:35|         10| Weekday|   2018-08|\n",
      "|     2017-02-04 13:57:51|         13| Weekend|   2017-02|\n",
      "|     2017-05-15 21:42:34|         21| Weekday|   2017-05|\n",
      "+------------------------+-----------+--------+----------+\n",
      "\n"
     ]
    }
   ],
   "source": [
    "spark.sql(\"SELECT order_purchase_timestamp, hour_of_day, day_type, year_month FROM order_details_full LIMIT 5\").show()"
   ]
  },
  {
   "cell_type": "markdown",
   "id": "1406c4f4-510d-42b8-a111-935432a6ca5b",
   "metadata": {},
   "source": [
    "Save it into BigQuery (Data Warehouse)"
   ]
  },
  {
   "cell_type": "code",
   "execution_count": null,
   "id": "abe673d7-ad37-45a5-9a97-27d8b2a07a70",
   "metadata": {
    "tags": []
   },
   "outputs": [
    {
     "name": "stderr",
     "output_type": "stream",
     "text": [
      "                                                                                \r"
     ]
    }
   ],
   "source": [
    "df_order_details_full.write \\\n",
    "  .format(\"bigquery\") \\\n",
    "  .option(\"table\", \"your-project-id.olist_dataset.order_details_full\") \\\n",
    "  .option(\"temporaryGcsBucket\", \"bucket-temp-name\") \\\n",
    "  .mode(\"overwrite\") \\\n",
    "  .save()"
   ]
  },
  {
   "cell_type": "code",
   "execution_count": 160,
   "id": "2659ccfb-95e7-4ecd-8e28-ed9586e0a69e",
   "metadata": {
    "tags": []
   },
   "outputs": [],
   "source": [
    "spark.stop()"
   ]
  },
  {
   "cell_type": "code",
   "execution_count": null,
   "id": "a2504453-4f5e-4b46-b321-6ca78d4ae408",
   "metadata": {},
   "outputs": [],
   "source": []
  }
 ],
 "metadata": {
  "kernelspec": {
   "display_name": "PySpark",
   "language": "python",
   "name": "pyspark"
  },
  "language_info": {
   "codemirror_mode": {
    "name": "ipython",
    "version": 3
   },
   "file_extension": ".py",
   "mimetype": "text/x-python",
   "name": "python",
   "nbconvert_exporter": "python",
   "pygments_lexer": "ipython3",
   "version": "3.11.8"
  }
 },
 "nbformat": 4,
 "nbformat_minor": 5
}
