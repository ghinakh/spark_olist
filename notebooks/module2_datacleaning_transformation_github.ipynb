{
 "cells": [
  {
   "cell_type": "markdown",
   "id": "bef5286d-5c40-43f7-82b2-fc9b0ea82279",
   "metadata": {},
   "source": [
    "## Data Cleaning & Transformantion"
   ]
  },
  {
   "cell_type": "code",
   "execution_count": 1,
   "id": "195b28bb-96dd-4afa-8028-ccd48009b56d",
   "metadata": {
    "tags": []
   },
   "outputs": [],
   "source": [
    "from pyspark.sql import SparkSession\n",
    "from pyspark.sql.functions import *\n",
    "from pyspark.sql.window import Window"
   ]
  },
  {
   "cell_type": "code",
   "execution_count": 2,
   "id": "eed2fad6-68a5-4e30-a03c-dd2329491060",
   "metadata": {
    "tags": []
   },
   "outputs": [
    {
     "name": "stderr",
     "output_type": "stream",
     "text": [
      "25/06/14 08:53:26 WARN SparkSession: Using an existing Spark session; only runtime SQL configurations will take effect.\n"
     ]
    }
   ],
   "source": [
    "spark = SparkSession.builder \\\n",
    ".appName(\"brazilian-ecommerce\") \\\n",
    ".config(\"spark.executor.memory\",\"2g\") \\\n",
    ".config(\"spark.executor.cores\", \"2\") \\\n",
    ".config(\"spark.executor.instances\", \"2\") \\\n",
    ".config(\"spark.sql.autoBroadcastJoinThreshold\",20*1024*1024) \\\n",
    ".getOrCreate()"
   ]
  },
  {
   "cell_type": "code",
   "execution_count": null,
   "id": "43898dd5-5d7a-4937-a886-836222b3abbc",
   "metadata": {
    "tags": []
   },
   "outputs": [
    {
     "name": "stderr",
     "output_type": "stream",
     "text": [
      "                                                                                \r"
     ]
    }
   ],
   "source": [
    "path_head = \"gs://bucket-name/ecommerce_real/\"\n",
    "\n",
    "df_customers = spark.read.parquet(f\"{path_head}olist_customers\", header=True)\n",
    "df_geolocation = spark.read.parquet(f\"{path_head}olist_geolocation\", header=True)\n",
    "df_order_items = spark.read.parquet(f\"{path_head}olist_order_items\", header=True)\n",
    "df_order_payments = spark.read.parquet(f\"{path_head}olist_order_payments\", header=True)\n",
    "df_order_reviews = spark.read.parquet(f\"{path_head}olist_order_reviews\", header=True)\n",
    "df_orders = spark.read.parquet(f\"{path_head}olist_orders\", header=True)\n",
    "df_products = spark.read.parquet(f\"{path_head}olist_products\", header=True)\n",
    "df_sellers = spark.read.parquet(f\"{path_head}olist_sellers\", header=True)"
   ]
  },
  {
   "cell_type": "code",
   "execution_count": 4,
   "id": "e8dfe7b2-3f30-4c6c-9629-f6c8c6a5ed94",
   "metadata": {
    "tags": []
   },
   "outputs": [
    {
     "name": "stderr",
     "output_type": "stream",
     "text": [
      "                                                                                \r"
     ]
    }
   ],
   "source": [
    "df_cat_trans = spark.read.csv(f\"{path_head}product_category_name_translation.csv\", header=True)"
   ]
  },
  {
   "cell_type": "code",
   "execution_count": 5,
   "id": "5e3abf85-8582-48ee-a945-f314e07de1b8",
   "metadata": {
    "tags": []
   },
   "outputs": [],
   "source": [
    "def missing_values(df, name):\n",
    "    print(f\"Missing values in {name}:\")\n",
    "    df.select([count(when(col(c).isNull(), 1)).alias(c) for c in df.columns]).show()"
   ]
  },
  {
   "cell_type": "markdown",
   "id": "438ca033-4c70-458e-bfd1-f0e6bbc890ee",
   "metadata": {
    "jp-MarkdownHeadingCollapsed": true,
    "tags": []
   },
   "source": [
    "### Customers"
   ]
  },
  {
   "cell_type": "code",
   "execution_count": null,
   "id": "40db0c0c-6b86-4fdd-80ef-45e1d40124cd",
   "metadata": {
    "tags": []
   },
   "outputs": [],
   "source": [
    "# Change string format of city from lower to title\n",
    "df_customers = df_customers.withColumn(\"customer_city\", initcap(col('customer_city')))\n",
    "df_customers.show(5)"
   ]
  },
  {
   "cell_type": "code",
   "execution_count": null,
   "id": "b008f0e1-7ef8-443e-9a8a-26c166b03aa9",
   "metadata": {
    "tags": []
   },
   "outputs": [],
   "source": [
    "df_customers = df_customers.withColumn(\"customer_zip_code_prefix\", col('customer_zip_code_prefix').cast('string'))"
   ]
  },
  {
   "cell_type": "code",
   "execution_count": null,
   "id": "6c70668b-2651-41c8-84cf-ec6c0c52b46c",
   "metadata": {
    "tags": []
   },
   "outputs": [],
   "source": [
    "df_customers.printSchema()"
   ]
  },
  {
   "cell_type": "code",
   "execution_count": null,
   "id": "4b3064b1-878b-460f-b8e8-2bb3df626a21",
   "metadata": {
    "tags": []
   },
   "outputs": [],
   "source": [
    "# write clean customers table to parquet file\n",
    "df_customers.write.mode(\"overwrite\").parquet(f\"{path_head}cleaned/customers/\")"
   ]
  },
  {
   "cell_type": "code",
   "execution_count": null,
   "id": "3a60ef0b-b7e0-4bae-a7d0-049f0abda6a1",
   "metadata": {},
   "outputs": [],
   "source": []
  },
  {
   "cell_type": "markdown",
   "id": "c9b6fe31-0da8-4d70-87de-4024a41ca549",
   "metadata": {
    "jp-MarkdownHeadingCollapsed": true,
    "tags": []
   },
   "source": [
    "### Sellers"
   ]
  },
  {
   "cell_type": "code",
   "execution_count": null,
   "id": "09a5469f-44ef-4513-8ed6-e5956342d57c",
   "metadata": {
    "tags": []
   },
   "outputs": [],
   "source": [
    "# Change string format of city from lower to title\n",
    "df_sellers = df_sellers.withColumn(\"seller_city\", initcap(col('seller_city')))\n",
    "df_sellers.show(5)"
   ]
  },
  {
   "cell_type": "code",
   "execution_count": null,
   "id": "de29e438-af53-4951-afbd-431217025262",
   "metadata": {
    "tags": []
   },
   "outputs": [],
   "source": [
    "df_sellers = df_sellers.withColumn(\"seller_zip_code_prefix\", col('seller_zip_code_prefix').cast('string'))\n",
    "df_sellers.printSchema()"
   ]
  },
  {
   "cell_type": "code",
   "execution_count": null,
   "id": "a5e54bf7-d46e-45b8-93bb-035f6acbe351",
   "metadata": {
    "tags": []
   },
   "outputs": [],
   "source": [
    "# write cleaned table to parquet file\n",
    "df_sellers.write.mode(\"overwrite\").parquet(f\"{path_head}cleaned/sellers/\")"
   ]
  },
  {
   "cell_type": "code",
   "execution_count": null,
   "id": "7edb0921-019c-4018-8f23-791e106a3278",
   "metadata": {},
   "outputs": [],
   "source": []
  },
  {
   "cell_type": "markdown",
   "id": "86140924-9440-463b-beb2-7321db0247f5",
   "metadata": {
    "jp-MarkdownHeadingCollapsed": true,
    "tags": []
   },
   "source": [
    "### Products"
   ]
  },
  {
   "cell_type": "code",
   "execution_count": null,
   "id": "f444ab3b-ef2d-462f-9a7f-b4a17fac2a7d",
   "metadata": {
    "tags": []
   },
   "outputs": [],
   "source": [
    "# rename some columns name\n",
    "df_products = df_products \\\n",
    "    .withColumnRenamed(\"product_name_lenght\", \"product_name_length\") \\\n",
    "    .withColumnRenamed(\"product_description_lenght\", \"product_description_length\")"
   ]
  },
  {
   "cell_type": "code",
   "execution_count": null,
   "id": "413290ae-e54b-4403-aa4d-8b1153ba3c2c",
   "metadata": {
    "tags": []
   },
   "outputs": [],
   "source": [
    "# filter all row that has missing value\n",
    "anomali_products_df = df_products.filter(\n",
    "    col(\"product_category_name\").isNull() |\n",
    "    col(\"product_name_length\").isNull() |\n",
    "    col(\"product_description_length\").isNull() |\n",
    "    col(\"product_photos_qty\").isNull() |\n",
    "    col(\"product_weight_g\").isNull() |\n",
    "    col(\"product_length_cm\").isNull() |\n",
    "    col(\"product_height_cm\").isNull() |\n",
    "    col(\"product_width_cm\").isNull()\n",
    ")\n",
    "\n",
    "# save it into parquet\n",
    "anomali_products_df.write.mode(\"overwrite\").parquet(f\"{path_head}anomalies/anomaly_products/\")"
   ]
  },
  {
   "cell_type": "code",
   "execution_count": null,
   "id": "5d8423f1-bfb0-4643-9b11-07c6fba55c89",
   "metadata": {
    "tags": []
   },
   "outputs": [],
   "source": [
    "df_products = df_products.na.drop(subset=[\n",
    "    \"product_category_name\",\n",
    "    \"product_name_length\",\n",
    "    \"product_description_length\",\n",
    "    \"product_photos_qty\",\n",
    "    \"product_weight_g\",\n",
    "    \"product_length_cm\",\n",
    "    \"product_height_cm\",\n",
    "    \"product_width_cm\"\n",
    "])\n",
    "\n",
    "# check missing values\n",
    "df_products.select([count(when(col(c).isNull(), 1)).alias(c) for c in df_products.columns]).show()"
   ]
  },
  {
   "cell_type": "markdown",
   "id": "43240ec1-638e-4bdc-99e7-cf4adb08bf23",
   "metadata": {},
   "source": [
    "The folder .../anomalies/anomaly_products/ contains rows that might be corrupted.\n",
    "\n",
    "Total rows 611, where there are 609 rows of [product_category_name, product_name_length, product_description_length] that are NULL and 1 row of [product_weight_g, product_length_cm, product_height_cm, product_width_cm] that are NULL, and 1 row where all columns (except id) are NULL"
   ]
  },
  {
   "cell_type": "code",
   "execution_count": null,
   "id": "33ffc747-d2f0-4b0b-a0dc-79edd3eacd92",
   "metadata": {
    "tags": []
   },
   "outputs": [],
   "source": [
    "# map category english name into category original name\n",
    "df_products = df_products.join(df_cat_trans, \"product_category_name\", \"left\")"
   ]
  },
  {
   "cell_type": "code",
   "execution_count": null,
   "id": "37f1d4e0-2bc3-4e7c-8509-8eca831ea9bf",
   "metadata": {
    "tags": []
   },
   "outputs": [],
   "source": [
    "# Two categories are not available in df_cat_trans,\n",
    "# so that it is translated manually based on context understanding:\n",
    "# 'pc_gamer' => 'computers' (since there is computers category in the existed file)\n",
    "# 'portateis_cozinha_e_preparadores_de_alimentos' => 'portable_kitchen_food_preparators'\n",
    "\n",
    "df_products = df_products.withColumn(\n",
    "    'product_category_name_english',\n",
    "    when(\n",
    "        col('product_category_name') == 'pc_gamer', 'computers'\n",
    "    ).when(\n",
    "        col('product_category_name') == 'portateis_cozinha_e_preparadores_de_alimentos', 'portable_kitchen_food_preparators'\n",
    "    ).otherwise(col('product_category_name_english'))\n",
    ")"
   ]
  },
  {
   "cell_type": "code",
   "execution_count": null,
   "id": "b1ed5b75-53d5-40fd-914b-719d7e5b73b0",
   "metadata": {
    "tags": []
   },
   "outputs": [],
   "source": [
    "df_products = df_products.select(\n",
    "    'product_id', 'product_category_name',\n",
    "    'product_category_name_english', 'product_name_length',\n",
    "    'product_description_length', 'product_photos_qty',\n",
    "    'product_weight_g', 'product_length_cm',\n",
    "    'product_height_cm', 'product_width_cm'\n",
    ")"
   ]
  },
  {
   "cell_type": "code",
   "execution_count": null,
   "id": "c68123a8-c892-489b-94dc-f58b14959de0",
   "metadata": {
    "tags": []
   },
   "outputs": [],
   "source": [
    "df_products = df_products \\\n",
    ".withColumn(\"product_weight_kg\", col(\"product_weight_g\") / 1000) \\\n",
    ".withColumn(\"product_volume_cm3\", col(\"product_length_cm\")*col(\"product_width_cm\")*col(\"product_height_cm\")) \\\n",
    ".select(\n",
    "    'product_id', 'product_category_name',\n",
    "    'product_category_name_english', 'product_name_length',\n",
    "    'product_description_length', 'product_photos_qty',\n",
    "    'product_weight_g', 'product_weight_kg', 'product_length_cm',\n",
    "    'product_height_cm', 'product_width_cm', 'product_volume_cm3'\n",
    ")"
   ]
  },
  {
   "cell_type": "code",
   "execution_count": null,
   "id": "f88937c7-f2f7-445f-a274-7e9563973b84",
   "metadata": {
    "tags": []
   },
   "outputs": [],
   "source": [
    "df_products = df_products.withColumn('product_size_category', \n",
    "                      when(col('product_weight_kg') < 1, 'Small')\n",
    "                      .when(col('product_weight_kg').between(1,5), 'Medium')\n",
    "                      .otherwise('Large'))"
   ]
  },
  {
   "cell_type": "code",
   "execution_count": null,
   "id": "6f54c2a9-75a7-4924-8ef6-d178b1a80bc4",
   "metadata": {
    "tags": []
   },
   "outputs": [],
   "source": [
    "df_products.agg(countDistinct(\"product_id\"), count(\"*\")).show()"
   ]
  },
  {
   "cell_type": "code",
   "execution_count": null,
   "id": "a1fb57b6-38c7-4d0f-b34a-ed8d81b7d4a9",
   "metadata": {
    "tags": []
   },
   "outputs": [],
   "source": [
    "# write cleaned table to parquet file\n",
    "df_products.write.mode(\"overwrite\").parquet(f\"{path_head}cleaned/products/\")"
   ]
  },
  {
   "cell_type": "code",
   "execution_count": null,
   "id": "7535d33d-24f2-49e4-9e5b-6a8b845a5e22",
   "metadata": {},
   "outputs": [],
   "source": []
  },
  {
   "cell_type": "markdown",
   "id": "45a9e93c-e68a-4a0c-b6ca-5df34fd97605",
   "metadata": {
    "jp-MarkdownHeadingCollapsed": true,
    "tags": []
   },
   "source": [
    "### Geolocation"
   ]
  },
  {
   "cell_type": "code",
   "execution_count": null,
   "id": "3b200b92-2d0c-4d50-b357-18a2381f787e",
   "metadata": {
    "tags": []
   },
   "outputs": [],
   "source": [
    "# Change string format of city from lower to title\n",
    "df_geolocation = df_geolocation.withColumn(\"geolocation_city\", initcap(col('geolocation_city')))\n",
    "df_geolocation.show(5)"
   ]
  },
  {
   "cell_type": "code",
   "execution_count": null,
   "id": "7dc98644-de03-42ba-9b80-c410b22e2dd6",
   "metadata": {
    "tags": []
   },
   "outputs": [],
   "source": [
    "# ambil rata-rata lat long sehingga zip code prefix tidak duplikat\n",
    "df_geolocation = df_geolocation.groupBy(\"geolocation_zip_code_prefix\").agg(\n",
    "    avg(\"geolocation_lat\").alias(\"geolocation_lat\"),\n",
    "    avg(\"geolocation_lng\").alias(\"geolocation_lng\"),\n",
    "    first(\"geolocation_city\").alias(\"geolocation_city\"),\n",
    "    first(\"geolocation_state\").alias(\"geolocation_state\")\n",
    ")\n",
    "\n",
    "df_geolocation.count()"
   ]
  },
  {
   "cell_type": "code",
   "execution_count": null,
   "id": "294de16d-b9e4-49c4-925c-1e0b4b979292",
   "metadata": {
    "tags": []
   },
   "outputs": [],
   "source": [
    "# check duplikat\n",
    "df_geolocation.groupBy(\"geolocation_zip_code_prefix\").count().filter(\"count > 1\").count()"
   ]
  },
  {
   "cell_type": "code",
   "execution_count": null,
   "id": "75f5e261-ba97-438c-987a-a4239a4d3607",
   "metadata": {
    "tags": []
   },
   "outputs": [],
   "source": [
    "# write cleaned table to parquet file\n",
    "df_geolocation.write.mode(\"overwrite\").parquet(f\"{path_head}cleaned/geolocation/\")"
   ]
  },
  {
   "cell_type": "markdown",
   "id": "27cddd18-1ac0-4e2d-ac32-7c479281b3e6",
   "metadata": {
    "jp-MarkdownHeadingCollapsed": true,
    "tags": []
   },
   "source": [
    "### Orders"
   ]
  },
  {
   "cell_type": "code",
   "execution_count": null,
   "id": "ecb8fe53-736f-4850-bb7d-04975bf87c70",
   "metadata": {
    "tags": []
   },
   "outputs": [],
   "source": [
    "df_orders = df_orders.select(\n",
    "    'order_id', 'customer_id',\n",
    "    'order_status',\n",
    "    'order_purchase_timestamp', 'order_approved_at',\n",
    "    'order_delivered_carrier_date', 'order_delivered_customer_date',\n",
    "    'order_estimated_delivery_date'\n",
    ")"
   ]
  },
  {
   "cell_type": "code",
   "execution_count": null,
   "id": "d30dbc44-4d36-444c-ba42-b33dd869cde7",
   "metadata": {
    "tags": []
   },
   "outputs": [],
   "source": [
    "#  All the timestamp cols are in the same format yyyy-MM-dd HH:mm:ss. Change the type from string to timestamp\n",
    "\n",
    "timestamp_cols = [\n",
    "    \"order_purchase_timestamp\",\n",
    "    \"order_approved_at\",\n",
    "    \"order_delivered_carrier_date\",\n",
    "    \"order_delivered_customer_date\",\n",
    "    \"order_estimated_delivery_date\"\n",
    "]\n",
    "\n",
    "for col_name in timestamp_cols:\n",
    "    df_orders = df_orders.withColumn(\n",
    "        col_name,\n",
    "        to_timestamp(col(col_name), \"yyyy-MM-dd HH:mm:ss\")\n",
    "    )\n",
    "\n",
    "# Since the HH:mm:ss of order_estimated_delivery_date are same, which is 00:00:00, I think it is better to change it into date type\n",
    "df_orders = df_orders.withColumn(\n",
    "    \"order_estimated_delivery_date\",\n",
    "    to_date(col(\"order_estimated_delivery_date\"), \"yyyy-MM-dd\")\n",
    ")\n",
    "\n",
    "df_orders.printSchema()"
   ]
  },
  {
   "cell_type": "markdown",
   "id": "644cc31e-8da1-41df-971d-d03f7a054ddb",
   "metadata": {},
   "source": [
    "Anomaly in orders\n",
    "\n",
    "1. order_status = \"canceled\" tapi delivery_time ≠ NULL (ada order_delivered_customer_date)\n",
    "2. order_status = \"delivered\" tapi order_approved_at = NULL\n",
    "3. order_status = \"delivered\" tapi order_delivered_carrier_date = NULL\n",
    "4. order_status = \"delivered\" tapi order_delivered_customer_date = NULL\n",
    "5. order_id count beda antara orders (99441) dan order_items (98666) -> Artinya ada order yang tidak punya item. Itu tidak valid secara logika.\n"
   ]
  },
  {
   "cell_type": "code",
   "execution_count": null,
   "id": "5bd9a6ac-f128-45bb-938c-d8ffca3598c9",
   "metadata": {
    "tags": []
   },
   "outputs": [],
   "source": [
    "orderid_orderitems = df_order_items.select(\"order_id\").distinct()\n",
    "\n",
    "df_orders_flagged = df_orders.alias(\"x\")\\\n",
    ".join(\n",
    "    orderid_orderitems.alias(\"y\"),\n",
    "    col(\"x.order_id\") == col(\"y.order_id\"),\n",
    "    how=\"left\") \\\n",
    ".withColumn(\n",
    "    \"flag_missing_items\", when(col(\"y.order_id\").isNull(), lit(True))) \\\n",
    ".drop(col(\"y.order_id\"))"
   ]
  },
  {
   "cell_type": "code",
   "execution_count": null,
   "id": "d990a6d6-7e5a-4f8b-9359-d8b97f5770a0",
   "metadata": {
    "tags": []
   },
   "outputs": [],
   "source": [
    "df_orders_flagged = df_orders_flagged \\\n",
    "    .withColumn(\"flag_delivered_customer_but_canceled\", when((col(\"order_delivered_customer_date\").isNotNull()) & (col(\"order_status\") == \"canceled\"), lit(True))) \\\n",
    "    .withColumn(\"flag_missing_approvaldate_on_delivered\", when((col(\"order_approved_at\").isNull()) & (col(\"order_status\") == \"delivered\"), lit(True))) \\\n",
    "    .withColumn(\"flag_missing_carrierdate_on_delivered\", when((col(\"order_delivered_carrier_date\").isNull()) & (col(\"order_status\") == \"delivered\"), lit(True))) \\\n",
    "    .withColumn(\"flag_missing_delivcustdate_on_delivered\", when((col(\"order_delivered_customer_date\").isNull()) & (col(\"order_status\") == \"delivered\"), lit(True)))"
   ]
  },
  {
   "cell_type": "code",
   "execution_count": null,
   "id": "69c6c6f9-c7fb-40f8-9da4-5bd6a916ca5c",
   "metadata": {
    "tags": []
   },
   "outputs": [],
   "source": [
    "# orders_valid -> data yang tidak mengandung flag\n",
    "# orders_anomalies → data yang mengandung setidaknya satu flag\n",
    "\n",
    "df_orders_valid = df_orders_flagged.filter(\n",
    "    (col(\"flag_delivered_customer_but_canceled\").isNull()) &\n",
    "    (col(\"flag_missing_approvaldate_on_delivered\").isNull()) &\n",
    "    (col(\"flag_missing_carrierdate_on_delivered\").isNull()) &\n",
    "    (col(\"flag_missing_delivcustdate_on_delivered\").isNull()) &\n",
    "    (col(\"flag_missing_items\").isNull())\n",
    ")\n",
    "\n",
    "df_orders_anomalies = df_orders_flagged.subtract(df_orders_valid)"
   ]
  },
  {
   "cell_type": "code",
   "execution_count": null,
   "id": "71af1a67-45b4-4850-83ae-f7d0bd308f9b",
   "metadata": {
    "tags": []
   },
   "outputs": [],
   "source": [
    "# df_orders_anomalies.select(\n",
    "#     sum(col(\"flag_delivered_customer_but_canceled\").cast(\"int\")).alias(\"anomaly_1\"),\n",
    "#     sum(col(\"flag_missing_approvaldate_on_delivered\").cast(\"int\")).alias(\"anomaly_2\"),\n",
    "#     sum(col(\"flag_missing_carrierdate_on_delivered\").cast(\"int\")).alias(\"anomaly_3\"),\n",
    "#     sum(col(\"flag_missing_delivcustdate_on_delivered\").cast(\"int\")).alias(\"anomaly_4\"),\n",
    "#     sum(col(\"flag_missing_items\").cast(\"int\")).alias(\"anomaly_5\")\n",
    "# ).show()"
   ]
  },
  {
   "cell_type": "code",
   "execution_count": null,
   "id": "ea70b490-deb8-4d5c-ab5e-cd3029c4b2b1",
   "metadata": {
    "tags": []
   },
   "outputs": [],
   "source": [
    "df_orders_valid = df_orders_valid.select(\"order_id\", \"customer_id\", \"order_status\", \"order_purchase_timestamp\", \"order_approved_at\", \"order_delivered_carrier_date\", \"order_delivered_customer_date\", \"order_estimated_delivery_date\")"
   ]
  },
  {
   "cell_type": "code",
   "execution_count": null,
   "id": "603591a9-a84d-493e-9a01-45684a78f71a",
   "metadata": {
    "tags": []
   },
   "outputs": [],
   "source": [
    "missing_values(df_orders_valid, \"Orders Valid\")"
   ]
  },
  {
   "cell_type": "code",
   "execution_count": null,
   "id": "48fab714-ad4b-4fd1-92bb-17a32bf0e596",
   "metadata": {
    "tags": []
   },
   "outputs": [],
   "source": [
    "df_orders_valid.printSchema()"
   ]
  },
  {
   "cell_type": "code",
   "execution_count": null,
   "id": "9fd4463e-d014-413b-a5e8-99655e3ff2ee",
   "metadata": {
    "tags": []
   },
   "outputs": [],
   "source": [
    "df_orders_valid = df_orders_valid.fillna({'order_delivered_carrier_date':'9999-12-31 23:59:59'})\n",
    "df_orders_valid = df_orders_valid.fillna({'order_delivered_customer_date':'9999-12-31 23:59:59'})"
   ]
  },
  {
   "cell_type": "code",
   "execution_count": null,
   "id": "2c97b87b-7063-4158-9380-7c9e992b44e8",
   "metadata": {
    "tags": []
   },
   "outputs": [],
   "source": [
    "missing_values(df_orders_valid, \"Orders Valid\")"
   ]
  },
  {
   "cell_type": "code",
   "execution_count": null,
   "id": "d2da962d-e2f9-4020-9d44-e2b27b2c9432",
   "metadata": {
    "tags": []
   },
   "outputs": [],
   "source": [
    "df_orders_valid = df_orders_valid.withColumn('delivery_time',datediff(col('order_delivered_customer_date'),col('order_purchase_timestamp'))).orderBy(desc('delivery_time'))"
   ]
  },
  {
   "cell_type": "code",
   "execution_count": null,
   "id": "7964ceaa-c43d-45f9-99b8-55d65cd226d4",
   "metadata": {
    "tags": []
   },
   "outputs": [],
   "source": [
    "quantiles = df_orders_valid.filter(\"order_delivered_customer_date != '9999-12-31 23:59:59'\").approxQuantile('delivery_time',[0.01,0.99],0.0)\n",
    "low_cutoff, high_cutoff = quantiles[0], quantiles[1]"
   ]
  },
  {
   "cell_type": "code",
   "execution_count": null,
   "id": "8a2faad6-eedd-4049-8a71-956002adbfbf",
   "metadata": {
    "tags": []
   },
   "outputs": [],
   "source": [
    "low_cutoff, high_cutoff"
   ]
  },
  {
   "cell_type": "code",
   "execution_count": null,
   "id": "0edf4d0a-e0bd-46c6-9798-6d53eb296f9b",
   "metadata": {
    "tags": []
   },
   "outputs": [],
   "source": [
    "df_orders_valid.filter(\"order_delivered_customer_date != '9999-12-31 23:59:59'\").agg(min(\"delivery_time\"), max(\"delivery_time\"), mean(\"delivery_time\")).show()"
   ]
  },
  {
   "cell_type": "code",
   "execution_count": null,
   "id": "9fb12c07-98ec-4077-88b8-add3aff4e607",
   "metadata": {
    "tags": []
   },
   "outputs": [],
   "source": [
    "df_orders_valid = df_orders_valid.filter((col('delivery_time') >=low_cutoff) & (col('delivery_time') <=high_cutoff))"
   ]
  },
  {
   "cell_type": "code",
   "execution_count": null,
   "id": "b9270761-3974-497d-a1c1-591d49b1720b",
   "metadata": {
    "tags": []
   },
   "outputs": [],
   "source": [
    "df_orders_valid.agg(countDistinct(\"order_id\"), count(\"*\")).show()"
   ]
  },
  {
   "cell_type": "code",
   "execution_count": null,
   "id": "07b6fc1d-3505-4dcc-8501-6bc7e16e43ac",
   "metadata": {
    "tags": []
   },
   "outputs": [],
   "source": [
    "# write cleaned table to parquet file\n",
    "df_orders_valid.write.mode(\"overwrite\").parquet(f\"{path_head}cleaned/orders/\")\n",
    "\n",
    "# write anomalies table to parquet file\n",
    "df_orders_anomalies.write.mode(\"overwrite\").parquet(f\"{path_head}anomalies/anomaly_orders/\")\n",
    "\n",
    "# write full table with flag\n",
    "df_orders_flagged.write.mode(\"overwrite\").parquet(f\"{path_head}flagged/anomaly_orders_full/\")"
   ]
  },
  {
   "cell_type": "code",
   "execution_count": null,
   "id": "7355e598-a061-454c-8fe3-d5d882809a4a",
   "metadata": {},
   "outputs": [],
   "source": []
  },
  {
   "cell_type": "markdown",
   "id": "b92b6d7f-206c-4078-b2b7-feeac45c87c8",
   "metadata": {
    "jp-MarkdownHeadingCollapsed": true,
    "tags": []
   },
   "source": [
    "### Order Items"
   ]
  },
  {
   "cell_type": "code",
   "execution_count": 6,
   "id": "6c31fe89-ec37-42d5-8913-c2a717426ebb",
   "metadata": {
    "tags": []
   },
   "outputs": [],
   "source": [
    "df_order_items = df_order_items.withColumn(\"shipping_limit_date\", to_timestamp(col(\"shipping_limit_date\"), \"yyyy-MM-dd HH:mm:ss\"))"
   ]
  },
  {
   "cell_type": "code",
   "execution_count": 7,
   "id": "034dfc9a-9abb-427c-8bd1-e00811e21e2d",
   "metadata": {
    "tags": []
   },
   "outputs": [
    {
     "name": "stdout",
     "output_type": "stream",
     "text": [
      "Missing values in Order Items:\n"
     ]
    },
    {
     "name": "stderr",
     "output_type": "stream",
     "text": [
      "[Stage 9:=============================>                             (1 + 1) / 2]\r"
     ]
    },
    {
     "name": "stdout",
     "output_type": "stream",
     "text": [
      "+--------+-------------+----------+---------+-------------------+-----+-------------+----------------------------+\n",
      "|order_id|order_item_id|product_id|seller_id|shipping_limit_date|price|freight_value|shipping_limit_date_is_valid|\n",
      "+--------+-------------+----------+---------+-------------------+-----+-------------+----------------------------+\n",
      "|       0|            0|         0|        0|                  0|    0|            0|                           0|\n",
      "+--------+-------------+----------+---------+-------------------+-----+-------------+----------------------------+\n",
      "\n"
     ]
    },
    {
     "name": "stderr",
     "output_type": "stream",
     "text": [
      "                                                                                \r"
     ]
    }
   ],
   "source": [
    "missing_values(df_order_items, \"Order Items\")"
   ]
  },
  {
   "cell_type": "code",
   "execution_count": 8,
   "id": "c188a418-6c29-4a30-9a42-45efb88669c2",
   "metadata": {
    "tags": []
   },
   "outputs": [
    {
     "name": "stdout",
     "output_type": "stream",
     "text": [
      "+--------------------+-------------+--------------------+--------------------+-------------------+-----+-------------+----------------------------+\n",
      "|            order_id|order_item_id|          product_id|           seller_id|shipping_limit_date|price|freight_value|shipping_limit_date_is_valid|\n",
      "+--------------------+-------------+--------------------+--------------------+-------------------+-----+-------------+----------------------------+\n",
      "|00010242fe8c5a6d1...|            1|4244733e06e7ecb49...|48436dade18ac8b2b...|2017-09-19 09:45:35| 58.9|        13.29|                        true|\n",
      "|00018f77f2f0320c5...|            1|e5f2d52b802189ee6...|dd7ddc04e1b6c2c61...|2017-05-03 11:05:13|239.9|        19.93|                        true|\n",
      "|000229ec398224ef6...|            1|c777355d18b72b67a...|5b51032eddd242adc...|2018-01-18 14:48:30|199.0|        17.87|                        true|\n",
      "|00024acbcdf0a6daa...|            1|7634da152a4610f15...|9d7a1d34a50524090...|2018-08-15 10:10:18|12.99|        12.79|                        true|\n",
      "|00042b26cf59d7ce6...|            1|ac6c3623068f30de0...|df560393f3a51e745...|2017-02-13 13:57:51|199.9|        18.14|                        true|\n",
      "+--------------------+-------------+--------------------+--------------------+-------------------+-----+-------------+----------------------------+\n",
      "only showing top 5 rows\n",
      "\n"
     ]
    },
    {
     "name": "stderr",
     "output_type": "stream",
     "text": [
      "                                                                                \r"
     ]
    }
   ],
   "source": [
    "df_order_items.show(5)"
   ]
  },
  {
   "cell_type": "code",
   "execution_count": 9,
   "id": "f9ab634a-50fa-436b-949a-9903da83b9dd",
   "metadata": {
    "tags": []
   },
   "outputs": [
    {
     "name": "stderr",
     "output_type": "stream",
     "text": [
      "                                                                                \r"
     ]
    },
    {
     "name": "stdout",
     "output_type": "stream",
     "text": [
      "+--------------------------------+--------------------------------+-----+\n",
      "|order_id                        |product_id                      |price|\n",
      "+--------------------------------+--------------------------------+-----+\n",
      "|9bad44921c98e1f220a667504bcffb9e|3dacb3ae011b40803a508b23392e15a0|399.0|\n",
      "+--------------------------------+--------------------------------+-----+\n",
      "\n"
     ]
    }
   ],
   "source": [
    "df_order_items.filter(\"order_id = '9bad44921c98e1f220a667504bcffb9e'\").select(\"order_id\", \"product_id\", \"price\").show(truncate=False)"
   ]
  },
  {
   "cell_type": "code",
   "execution_count": 11,
   "id": "9ee34909-5699-43e6-a1e0-d5f0ae6949a8",
   "metadata": {
    "tags": []
   },
   "outputs": [],
   "source": [
    "df_order_items_final = df_order_items.select(\"order_id\", \"order_item_id\", \"product_id\", \"seller_id\", \"shipping_limit_date\", \"price\", \"freight_value\").groupBy(\"order_id\", \"product_id\").agg(\n",
    "    first(\"seller_id\").alias(\"seller_id\"),\n",
    "    first(\"shipping_limit_date\").alias(\"shipping_limit_date\"),\n",
    "    round(sum(\"price\"), 2).alias(\"total_price\"),\n",
    "    round(sum(\"freight_value\"), 2).alias(\"total_freight\"),\n",
    "    count(\"order_item_id\").alias(\"qty\")) \\\n",
    "    .withColumn(\"total_order_value\", round(col(\"total_price\") + col(\"total_freight\"), 2))"
   ]
  },
  {
   "cell_type": "code",
   "execution_count": 14,
   "id": "c0c744c8-c95f-4084-af44-9c74632b4e7d",
   "metadata": {
    "tags": []
   },
   "outputs": [
    {
     "name": "stderr",
     "output_type": "stream",
     "text": [
      "[Stage 18:=============================>                            (1 + 1) / 2]\r"
     ]
    },
    {
     "name": "stdout",
     "output_type": "stream",
     "text": [
      "+--------------------------------+--------------------------------+---+-----------+\n",
      "|order_id                        |product_id                      |qty|total_price|\n",
      "+--------------------------------+--------------------------------+---+-----------+\n",
      "|9bad44921c98e1f220a667504bcffb9e|3dacb3ae011b40803a508b23392e15a0|1  |399.0      |\n",
      "+--------------------------------+--------------------------------+---+-----------+\n",
      "\n"
     ]
    },
    {
     "name": "stderr",
     "output_type": "stream",
     "text": [
      "                                                                                \r"
     ]
    }
   ],
   "source": [
    "df_order_items_final.filter(\"order_id = '9bad44921c98e1f220a667504bcffb9e'\").select(\"order_id\", \"product_id\", \"qty\", \"total_price\").show(truncate=False)"
   ]
  },
  {
   "cell_type": "code",
   "execution_count": 34,
   "id": "0fd5ec2e-b4dd-464d-909f-f96ecf5f1f3f",
   "metadata": {
    "tags": []
   },
   "outputs": [
    {
     "name": "stderr",
     "output_type": "stream",
     "text": [
      "[Stage 78:=============================>                            (1 + 1) / 2]\r"
     ]
    },
    {
     "name": "stdout",
     "output_type": "stream",
     "text": [
      "+------------------------+--------+\n",
      "|count(DISTINCT order_id)|count(1)|\n",
      "+------------------------+--------+\n",
      "|                   98666|  102425|\n",
      "+------------------------+--------+\n",
      "\n"
     ]
    },
    {
     "name": "stderr",
     "output_type": "stream",
     "text": [
      "                                                                                \r"
     ]
    }
   ],
   "source": [
    "df_order_items_final.agg(countDistinct(\"order_id\"), count(\"*\")).show()"
   ]
  },
  {
   "cell_type": "code",
   "execution_count": 35,
   "id": "16065a85-5efe-42ce-9f29-28994cb0ce40",
   "metadata": {
    "tags": []
   },
   "outputs": [
    {
     "name": "stderr",
     "output_type": "stream",
     "text": [
      "[Stage 86:>                                                         (0 + 2) / 2]\r"
     ]
    },
    {
     "name": "stdout",
     "output_type": "stream",
     "text": [
      "+--------------------------+--------+\n",
      "|count(DISTINCT product_id)|count(1)|\n",
      "+--------------------------+--------+\n",
      "|                     32951|  102425|\n",
      "+--------------------------+--------+\n",
      "\n"
     ]
    },
    {
     "name": "stderr",
     "output_type": "stream",
     "text": [
      "                                                                                \r"
     ]
    }
   ],
   "source": [
    "df_order_items_final.agg(countDistinct(\"product_id\"), count(\"*\")).show()"
   ]
  },
  {
   "cell_type": "code",
   "execution_count": 36,
   "id": "4c085bd5-d9b5-415b-a322-e8f058dfaed4",
   "metadata": {
    "tags": []
   },
   "outputs": [
    {
     "name": "stderr",
     "output_type": "stream",
     "text": [
      "                                                                                \r"
     ]
    }
   ],
   "source": [
    "# write cleaned table to parquet file\n",
    "df_order_items_final.write.mode(\"overwrite\").parquet(f\"{path_head}cleaned/order_items/\")"
   ]
  },
  {
   "cell_type": "code",
   "execution_count": null,
   "id": "24bf2b17-6908-46eb-b290-10f90f69494a",
   "metadata": {},
   "outputs": [],
   "source": []
  },
  {
   "cell_type": "markdown",
   "id": "e3b5b46a-c276-4479-89d6-2396a418311c",
   "metadata": {
    "jp-MarkdownHeadingCollapsed": true,
    "tags": []
   },
   "source": [
    "### Order Payments"
   ]
  },
  {
   "cell_type": "code",
   "execution_count": 37,
   "id": "40c1d2f9-de1f-4bd8-9f56-21abc3301646",
   "metadata": {
    "tags": []
   },
   "outputs": [
    {
     "name": "stdout",
     "output_type": "stream",
     "text": [
      "Missing values in Payments:\n"
     ]
    },
    {
     "name": "stderr",
     "output_type": "stream",
     "text": [
      "[Stage 99:=============================>                            (1 + 1) / 2]\r"
     ]
    },
    {
     "name": "stdout",
     "output_type": "stream",
     "text": [
      "+--------+------------------+------------+--------------------+-------------+\n",
      "|order_id|payment_sequential|payment_type|payment_installments|payment_value|\n",
      "+--------+------------------+------------+--------------------+-------------+\n",
      "|       0|                 0|           0|                   0|            0|\n",
      "+--------+------------------+------------+--------------------+-------------+\n",
      "\n"
     ]
    },
    {
     "name": "stderr",
     "output_type": "stream",
     "text": [
      "                                                                                \r"
     ]
    }
   ],
   "source": [
    "missing_values(df_order_payments, 'Payments')"
   ]
  },
  {
   "cell_type": "code",
   "execution_count": 38,
   "id": "7d263ab1-309c-4b0f-9e92-b7fddb68b1da",
   "metadata": {
    "tags": []
   },
   "outputs": [
    {
     "name": "stderr",
     "output_type": "stream",
     "text": [
      "[Stage 108:>                                                        (0 + 1) / 1]\r"
     ]
    },
    {
     "name": "stdout",
     "output_type": "stream",
     "text": [
      "+--------------------+-------------+--------------------+--------------------+\n",
      "|            order_id|total_payment|        payment_type|payment_installments|\n",
      "+--------------------+-------------+--------------------+--------------------+\n",
      "|1d9a9731b9c10fc9c...|        63.58|[credit_card, vou...|[1, 1, 1, 1, 1, 1...|\n",
      "+--------------------+-------------+--------------------+--------------------+\n",
      "\n"
     ]
    },
    {
     "name": "stderr",
     "output_type": "stream",
     "text": [
      "                                                                                \r"
     ]
    }
   ],
   "source": [
    "df_order_payments.filter(\"order_id = '1d9a9731b9c10fc9cba74e6f74782e8b'\").orderBy(\"payment_sequential\").groupBy(\"order_id\").agg(\n",
    "    round(sum(\"payment_value\"), 2).alias(\"total_payment\"),\n",
    "    collect_list(\"payment_type\").alias(\"payment_type\"),\n",
    "    collect_list(\"payment_installments\").alias(\"payment_installments\")\n",
    ").show()"
   ]
  },
  {
   "cell_type": "code",
   "execution_count": null,
   "id": "ae48fd8b-ea7a-4d2d-8f56-c405128f2454",
   "metadata": {},
   "outputs": [],
   "source": []
  },
  {
   "cell_type": "code",
   "execution_count": null,
   "id": "d441856d-60f5-4f22-881f-1913b81cc267",
   "metadata": {
    "tags": []
   },
   "outputs": [],
   "source": [
    "df_payments_summary = df_order_payments.orderBy(\"payment_sequential\").groupBy(\"order_id\").agg(\n",
    "    round(sum(\"payment_value\"), 2).alias(\"total_payment\"),\n",
    "    collect_list(\"payment_type\").alias(\"payment_type\"),\n",
    "    collect_list(\"payment_installments\").alias(\"payment_installments\")\n",
    ")"
   ]
  },
  {
   "cell_type": "code",
   "execution_count": null,
   "id": "6d386045-3f01-4ec7-be5f-06e892e89462",
   "metadata": {
    "tags": []
   },
   "outputs": [],
   "source": [
    "df_payments_summary.show(5, truncate=False)"
   ]
  },
  {
   "cell_type": "code",
   "execution_count": null,
   "id": "9827d8b3-5e32-4358-8cdf-5d862d05f974",
   "metadata": {
    "tags": []
   },
   "outputs": [],
   "source": [
    "df_payments_summary.agg(countDistinct(\"order_id\"), count(\"*\")).show()"
   ]
  },
  {
   "cell_type": "code",
   "execution_count": null,
   "id": "facf2fc7-ceab-41be-84b9-b6a5c7a628d9",
   "metadata": {
    "tags": []
   },
   "outputs": [],
   "source": [
    "# write cleaned table to parquet file\n",
    "df_payments_summary.write.mode(\"overwrite\").parquet(f\"{path_head}cleaned/order_payments/\")"
   ]
  },
  {
   "cell_type": "code",
   "execution_count": null,
   "id": "254408fc-d08f-44be-b64f-34eba6c3d178",
   "metadata": {},
   "outputs": [],
   "source": []
  },
  {
   "cell_type": "markdown",
   "id": "b6424e49-86b6-4dd2-9248-747969e65377",
   "metadata": {
    "jp-MarkdownHeadingCollapsed": true,
    "tags": []
   },
   "source": [
    "### Order Reviews"
   ]
  },
  {
   "cell_type": "code",
   "execution_count": null,
   "id": "135ab995-ab83-4069-a51f-7a3b2f1a85df",
   "metadata": {
    "tags": []
   },
   "outputs": [],
   "source": [
    "df_order_reviews = df_order_reviews.withColumn(\"review_answer_timestamp\", to_timestamp(col(\"review_answer_timestamp\"), \"yyyy-MM-dd HH:mm:ss\"))"
   ]
  },
  {
   "cell_type": "code",
   "execution_count": null,
   "id": "fc8025d6-6c15-429f-81e1-1e13649c0bff",
   "metadata": {
    "tags": []
   },
   "outputs": [],
   "source": [
    "df_order_reviews = df_order_reviews.withColumn(\n",
    "    \"review_creation_date\",\n",
    "    to_date(to_timestamp(col(\"review_creation_date\"), \"yyyy-MM-dd HH:mm:ss\"))\n",
    ")"
   ]
  },
  {
   "cell_type": "code",
   "execution_count": null,
   "id": "3793ed31-3c92-4a60-a879-ddd24329218d",
   "metadata": {
    "tags": []
   },
   "outputs": [],
   "source": [
    "df_order_reviews.printSchema()"
   ]
  },
  {
   "cell_type": "markdown",
   "id": "7a46f0ea-0e41-4427-9c31-08ce91180305",
   "metadata": {},
   "source": [
    "Anomaly in order_reviews\n",
    "\n",
    "1. review_id or order_id or review_score is NULL\n",
    "2. review_score = 0 (tidak masuk akal)\n",
    "3. order_id yang formatnya tidak valid (bukan 32 karakter heksadesimal)\n",
    "4. duplikat > 2 masuk ke nomor 3\n",
    "   duplikat == 2 -> kemungkinan update reviews"
   ]
  },
  {
   "cell_type": "code",
   "execution_count": null,
   "id": "fc98f394-e959-4113-8f01-7b30f84c9fb3",
   "metadata": {
    "tags": []
   },
   "outputs": [],
   "source": [
    "df_order_reviews_flagged = df_order_reviews \\\n",
    "    .withColumn(\"flag_missing_reviewid_orderid_score\", when((col(\"review_id\").isNull()) | col(\"order_id\").isNull() | col(\"review_score\").isNull(), lit(True))) \\\n",
    "    .withColumn(\"flag_review_score_0\", when((col(\"review_score\") == 0), lit(True))) \\\n",
    "    .withColumn(\"flag_orderid_not_valid\", when((~col(\"order_id\").rlike(\"^[a-f0-9]{32}$\")), lit(True)))"
   ]
  },
  {
   "cell_type": "code",
   "execution_count": null,
   "id": "53a4228d-b659-495f-a567-da52915c141d",
   "metadata": {
    "tags": []
   },
   "outputs": [],
   "source": [
    "window_orderid = Window.partitionBy(\"order_id\")\n",
    "df_order_reviews_flagged = df_order_reviews_flagged.withColumn(\"order_id_count\", count(\"order_id\").over(window_orderid)) \\\n",
    "                                                   .withColumn(\"flag_duplicate\", when((col(\"order_id_count\") > 1), lit(True)))"
   ]
  },
  {
   "cell_type": "code",
   "execution_count": null,
   "id": "cdfa0891-a9fa-4dfe-8e05-73a18291eec0",
   "metadata": {
    "tags": []
   },
   "outputs": [],
   "source": [
    "# Hapus NULL pada kolom penting\n",
    "df_order_reviews_clean = df_order_reviews_flagged.filter(\n",
    "    col(\"review_id\").isNotNull() |\n",
    "    col(\"order_id\").isNotNull() |\n",
    "    col(\"review_score\").isNotNull()\n",
    ")"
   ]
  },
  {
   "cell_type": "code",
   "execution_count": null,
   "id": "04802764-5741-44ae-9349-8826616af5c2",
   "metadata": {
    "tags": []
   },
   "outputs": [],
   "source": [
    "# Hapus order_id yang formatnya tidak valid (bukan 32 karakter heksadesimal)\n",
    "df_order_reviews_clean = df_order_reviews_clean.filter(col(\"order_id\").rlike(\"^[a-f0-9]{32}$\"))"
   ]
  },
  {
   "cell_type": "code",
   "execution_count": null,
   "id": "1433afe5-6771-4f03-8d04-79bd1c5de583",
   "metadata": {
    "tags": []
   },
   "outputs": [],
   "source": [
    "# Hapus review_score yang bernilai 0 (tidak masuk akal)\n",
    "df_order_reviews_clean = df_order_reviews_clean.filter(col(\"review_score\") > 0)"
   ]
  },
  {
   "cell_type": "code",
   "execution_count": null,
   "id": "b482efbd-dfe2-4b83-9259-97393ab80a5b",
   "metadata": {
    "tags": []
   },
   "outputs": [],
   "source": [
    "# drop duplicate di mana yang terbaru bertahan\n",
    "window = Window.partitionBy(\"order_id\").orderBy(col(\"review_creation_date\").desc())\n",
    "\n",
    "df_order_reviews_clean = df_order_reviews_clean.withColumn(\"rn\", row_number().over(window)) \\\n",
    "                                   .filter(col(\"rn\") == 1) \\\n",
    "                                   .drop(\"rn\")"
   ]
  },
  {
   "cell_type": "code",
   "execution_count": null,
   "id": "627f1a2e-adf4-4873-af67-a8bfbc4b68cc",
   "metadata": {
    "tags": []
   },
   "outputs": [],
   "source": [
    "df_order_reviews_clean = df_order_reviews_clean.drop(\"flag_missing_reviewid_orderid_score\", \"flag_review_score_0\", \"flag_orderid_not_valid\", \"order_id_count\", \"flag_duplicate\", \"review_creation_date_is_valid\", \"review_answer_timestamp_is_valid\")"
   ]
  },
  {
   "cell_type": "code",
   "execution_count": null,
   "id": "a8d03d3d-6bcf-4b34-853d-27027231d98f",
   "metadata": {
    "tags": []
   },
   "outputs": [],
   "source": [
    "df_order_reviews_clean.groupBy(\"order_id\").count().filter('count > 1').show()"
   ]
  },
  {
   "cell_type": "code",
   "execution_count": null,
   "id": "9024f7a9-539d-47b2-b693-c1a98db2f19d",
   "metadata": {
    "tags": []
   },
   "outputs": [],
   "source": [
    "missing_values(df_order_reviews_clean, \"Reviews Clean\")"
   ]
  },
  {
   "cell_type": "code",
   "execution_count": null,
   "id": "a4810712-9e73-4f6b-b818-dabb59ca2011",
   "metadata": {
    "tags": []
   },
   "outputs": [],
   "source": [
    "df_order_reviews_clean = df_order_reviews_clean.fillna({\n",
    "    'review_comment_title' : '-',\n",
    "    'review_comment_message' : '-',\n",
    "    'review_creation_date' : '9999-12-31',\n",
    "    'review_answer_timestamp' : '9999-12-31 23:59:59',\n",
    "})"
   ]
  },
  {
   "cell_type": "code",
   "execution_count": null,
   "id": "f4577db7-50d9-4940-a3a0-da91e9b35668",
   "metadata": {
    "tags": []
   },
   "outputs": [],
   "source": [
    "missing_values(df_order_reviews_clean, \"Reviews Clean\")"
   ]
  },
  {
   "cell_type": "code",
   "execution_count": null,
   "id": "064bcd5b-1909-4e07-936b-c41553499dfe",
   "metadata": {
    "tags": []
   },
   "outputs": [],
   "source": [
    "df_order_reviews_clean.agg(countDistinct(\"order_id\"), count(\"*\")).show()"
   ]
  },
  {
   "cell_type": "code",
   "execution_count": null,
   "id": "5a4ce69d-10c5-43a6-b80c-2205cb9f9bbd",
   "metadata": {
    "tags": []
   },
   "outputs": [],
   "source": [
    "df_order_reviews_anomalies = df_order_reviews_flagged.filter(\n",
    "    (col(\"flag_missing_reviewid_orderid_score\") == True) |\n",
    "    (col(\"flag_review_score_0\") == True) |\n",
    "    (col(\"flag_orderid_not_valid\") == True) |\n",
    "    (col(\"flag_duplicate\") == True)\n",
    ")\n",
    "\n",
    "df_order_reviews_anomalies.select(\n",
    "    sum(col(\"flag_missing_reviewid_orderid_score\").cast(\"int\")).alias(\"anomaly_1\"),\n",
    "    sum(col(\"flag_review_score_0\").cast(\"int\")).alias(\"anomaly_2\"),\n",
    "    sum(col(\"flag_orderid_not_valid\").cast(\"int\")).alias(\"anomaly_3\"),\n",
    "    sum(col(\"flag_duplicate\").cast(\"int\")).alias(\"anomaly_4\"),\n",
    ").show()"
   ]
  },
  {
   "cell_type": "code",
   "execution_count": null,
   "id": "baae5c6e-e076-4b9d-9008-a46a1884880d",
   "metadata": {
    "tags": []
   },
   "outputs": [],
   "source": [
    "# write cleaned table to parquet file\n",
    "df_order_reviews_clean.write.mode(\"overwrite\").parquet(f\"{path_head}cleaned/order_reviews/\")\n",
    "\n",
    "# write anomalies table to parquet file\n",
    "df_order_reviews_anomalies.write.mode(\"overwrite\").parquet(f\"{path_head}anomalies/anomaly_order_reviews/\")\n",
    "\n",
    "# write full table with flag\n",
    "df_order_reviews_flagged.write.mode(\"overwrite\").parquet(f\"{path_head}flagged/anomaly_orderreviews_full/\")\n"
   ]
  },
  {
   "cell_type": "code",
   "execution_count": 4,
   "id": "6a3c08da-d391-496d-81d6-17f3bc6de017",
   "metadata": {
    "tags": []
   },
   "outputs": [],
   "source": [
    "spark.stop()"
   ]
  },
  {
   "cell_type": "code",
   "execution_count": null,
   "id": "500e710c-e686-428f-80e3-e72469e4c4ad",
   "metadata": {},
   "outputs": [],
   "source": []
  }
 ],
 "metadata": {
  "kernelspec": {
   "display_name": "PySpark",
   "language": "python",
   "name": "pyspark"
  },
  "language_info": {
   "codemirror_mode": {
    "name": "ipython",
    "version": 3
   },
   "file_extension": ".py",
   "mimetype": "text/x-python",
   "name": "python",
   "nbconvert_exporter": "python",
   "pygments_lexer": "ipython3",
   "version": "3.11.8"
  }
 },
 "nbformat": 4,
 "nbformat_minor": 5
}
